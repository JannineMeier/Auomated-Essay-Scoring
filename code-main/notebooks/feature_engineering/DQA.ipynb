{
  "cells": [
    {
      "cell_type": "markdown",
      "metadata": {
        "id": "bf1NBO2sYMHv"
      },
      "source": [
        "# Data Quality Assesment"
      ]
    },
    {
      "cell_type": "code",
      "execution_count": 1,
      "metadata": {
        "id": "6gqblT6UYMHx"
      },
      "outputs": [],
      "source": [
        "from dotenv import load_dotenv\n",
        "load_dotenv()\n",
        "import pandas as pd\n",
        "import kaggle as kg\n",
        "import zipfile\n",
        "import matplotlib.pyplot as plt\n",
        "import textstat\n",
        "import re\n",
        "\n",
        "\n",
        "kg.api.authenticate()"
      ]
    },
    {
      "cell_type": "markdown",
      "metadata": {
        "id": "E2jLCIozYMHy"
      },
      "source": [
        "## Downloading the dataset"
      ]
    },
    {
      "cell_type": "code",
      "execution_count": 2,
      "metadata": {
        "id": "s5IP_Jw4YMHz"
      },
      "outputs": [
        {
          "name": "stdout",
          "output_type": "stream",
          "text": [
            "learning-agency-lab-automated-essay-scoring-2.zip: Skipping, found more recently modified local copy (use --force to force download)\n"
          ]
        }
      ],
      "source": [
        "kg.api.competition_download_files(competition = 'learning-agency-lab-automated-essay-scoring-2', path='../src/datasets', quiet = False)\n",
        "zf = zipfile.ZipFile('../src/datasets/learning-agency-lab-automated-essay-scoring-2.zip') \n",
        "submission = pd.read_csv(zf.open('sample_submission.csv'))\n",
        "test = pd.read_csv(zf.open('test.csv'))\n",
        "train = pd.read_csv(zf.open('train.csv'))"
      ]
    },
    {
      "cell_type": "code",
      "execution_count": 3,
      "metadata": {},
      "outputs": [
        {
          "data": {
            "text/html": [
              "<div>\n",
              "<style scoped>\n",
              "    .dataframe tbody tr th:only-of-type {\n",
              "        vertical-align: middle;\n",
              "    }\n",
              "\n",
              "    .dataframe tbody tr th {\n",
              "        vertical-align: top;\n",
              "    }\n",
              "\n",
              "    .dataframe thead th {\n",
              "        text-align: right;\n",
              "    }\n",
              "</style>\n",
              "<table border=\"1\" class=\"dataframe\">\n",
              "  <thead>\n",
              "    <tr style=\"text-align: right;\">\n",
              "      <th></th>\n",
              "      <th>essay_id</th>\n",
              "      <th>full_text</th>\n",
              "      <th>score</th>\n",
              "    </tr>\n",
              "  </thead>\n",
              "  <tbody>\n",
              "    <tr>\n",
              "      <th>0</th>\n",
              "      <td>000d118</td>\n",
              "      <td>Many people have car where they live. The thin...</td>\n",
              "      <td>3</td>\n",
              "    </tr>\n",
              "    <tr>\n",
              "      <th>1</th>\n",
              "      <td>000fe60</td>\n",
              "      <td>I am a scientist at NASA that is discussing th...</td>\n",
              "      <td>3</td>\n",
              "    </tr>\n",
              "    <tr>\n",
              "      <th>2</th>\n",
              "      <td>001ab80</td>\n",
              "      <td>People always wish they had the same technolog...</td>\n",
              "      <td>4</td>\n",
              "    </tr>\n",
              "    <tr>\n",
              "      <th>3</th>\n",
              "      <td>001bdc0</td>\n",
              "      <td>We all heard about Venus, the planet without a...</td>\n",
              "      <td>4</td>\n",
              "    </tr>\n",
              "    <tr>\n",
              "      <th>4</th>\n",
              "      <td>002ba53</td>\n",
              "      <td>Dear, State Senator\\n\\nThis is a letter to arg...</td>\n",
              "      <td>3</td>\n",
              "    </tr>\n",
              "  </tbody>\n",
              "</table>\n",
              "</div>"
            ],
            "text/plain": [
              "  essay_id                                          full_text  score\n",
              "0  000d118  Many people have car where they live. The thin...      3\n",
              "1  000fe60  I am a scientist at NASA that is discussing th...      3\n",
              "2  001ab80  People always wish they had the same technolog...      4\n",
              "3  001bdc0  We all heard about Venus, the planet without a...      4\n",
              "4  002ba53  Dear, State Senator\\n\\nThis is a letter to arg...      3"
            ]
          },
          "execution_count": 3,
          "metadata": {},
          "output_type": "execute_result"
        }
      ],
      "source": [
        "train.head()"
      ]
    },
    {
      "cell_type": "code",
      "execution_count": 4,
      "metadata": {},
      "outputs": [
        {
          "data": {
            "text/plain": [
              "17307"
            ]
          },
          "execution_count": 4,
          "metadata": {},
          "output_type": "execute_result"
        }
      ],
      "source": [
        "len(train)"
      ]
    },
    {
      "cell_type": "code",
      "execution_count": 5,
      "metadata": {},
      "outputs": [
        {
          "data": {
            "text/html": [
              "<div>\n",
              "<style scoped>\n",
              "    .dataframe tbody tr th:only-of-type {\n",
              "        vertical-align: middle;\n",
              "    }\n",
              "\n",
              "    .dataframe tbody tr th {\n",
              "        vertical-align: top;\n",
              "    }\n",
              "\n",
              "    .dataframe thead th {\n",
              "        text-align: right;\n",
              "    }\n",
              "</style>\n",
              "<table border=\"1\" class=\"dataframe\">\n",
              "  <thead>\n",
              "    <tr style=\"text-align: right;\">\n",
              "      <th></th>\n",
              "      <th>essay_id</th>\n",
              "      <th>full_text</th>\n",
              "    </tr>\n",
              "  </thead>\n",
              "  <tbody>\n",
              "    <tr>\n",
              "      <th>0</th>\n",
              "      <td>000d118</td>\n",
              "      <td>Many people have car where they live. The thin...</td>\n",
              "    </tr>\n",
              "    <tr>\n",
              "      <th>1</th>\n",
              "      <td>000fe60</td>\n",
              "      <td>I am a scientist at NASA that is discussing th...</td>\n",
              "    </tr>\n",
              "    <tr>\n",
              "      <th>2</th>\n",
              "      <td>001ab80</td>\n",
              "      <td>People always wish they had the same technolog...</td>\n",
              "    </tr>\n",
              "  </tbody>\n",
              "</table>\n",
              "</div>"
            ],
            "text/plain": [
              "  essay_id                                          full_text\n",
              "0  000d118  Many people have car where they live. The thin...\n",
              "1  000fe60  I am a scientist at NASA that is discussing th...\n",
              "2  001ab80  People always wish they had the same technolog..."
            ]
          },
          "execution_count": 5,
          "metadata": {},
          "output_type": "execute_result"
        }
      ],
      "source": [
        "test.head()"
      ]
    },
    {
      "cell_type": "code",
      "execution_count": 6,
      "metadata": {},
      "outputs": [
        {
          "data": {
            "text/plain": [
              "3"
            ]
          },
          "execution_count": 6,
          "metadata": {},
          "output_type": "execute_result"
        }
      ],
      "source": [
        "len(test)"
      ]
    },
    {
      "cell_type": "markdown",
      "metadata": {},
      "source": [
        "## DQA"
      ]
    },
    {
      "cell_type": "code",
      "execution_count": 7,
      "metadata": {},
      "outputs": [
        {
          "name": "stdout",
          "output_type": "stream",
          "text": [
            "\n",
            "Missing Values:\n",
            " essay_id     0\n",
            "full_text    0\n",
            "score        0\n",
            "dtype: int64\n"
          ]
        }
      ],
      "source": [
        "# Missing Values\n",
        "missing_values = train.isnull().sum()\n",
        "\n",
        "print(\"\\nMissing Values:\\n\", missing_values)"
      ]
    },
    {
      "cell_type": "code",
      "execution_count": 8,
      "metadata": {},
      "outputs": [
        {
          "name": "stdout",
          "output_type": "stream",
          "text": [
            "\n",
            "Number of Outliers: 0\n"
          ]
        }
      ],
      "source": [
        "# Outlier Detection (using Z-score for 'score' column)\n",
        "from scipy.stats import zscore\n",
        "\n",
        "train['score_zscore'] = zscore(train['score'])\n",
        "outliers = train[abs(train['score_zscore']) > 3]\n",
        "\n",
        "print(\"\\nNumber of Outliers:\", len(outliers))"
      ]
    },
    {
      "cell_type": "code",
      "execution_count": 9,
      "metadata": {},
      "outputs": [
        {
          "name": "stdout",
          "output_type": "stream",
          "text": [
            "\n",
            "Number of Duplicates: 0\n"
          ]
        }
      ],
      "source": [
        "# Check for Duplicates\n",
        "duplicates = train.duplicated().sum()\n",
        "\n",
        "print(\"\\nNumber of Duplicates:\", duplicates)"
      ]
    },
    {
      "cell_type": "code",
      "execution_count": 10,
      "metadata": {},
      "outputs": [
        {
          "name": "stdout",
          "output_type": "stream",
          "text": [
            "  essay_id                                          full_text  score  \\\n",
            "0  000d118  Many people have car where they live. The thin...      3   \n",
            "1  000fe60  I am a scientist at NASA that is discussing th...      3   \n",
            "2  001ab80  People always wish they had the same technolog...      4   \n",
            "3  001bdc0  We all heard about Venus, the planet without a...      4   \n",
            "4  002ba53  Dear, State Senator\\n\\nThis is a letter to arg...      3   \n",
            "\n",
            "   essay_length  special_char_count  word_count  score_zscore  \n",
            "0          2677                 542         498      0.049382  \n",
            "1          1669                 376         332      0.049382  \n",
            "2          3077                 617         550      1.006440  \n",
            "3          2701                 518         451      1.006440  \n",
            "4          2208                 437         373      0.049382  \n"
          ]
        }
      ],
      "source": [
        "# Basic Text Quality Checks\n",
        "# 1. Length of each essay\n",
        "train['essay_length'] = train['full_text'].apply(len)\n",
        "\n",
        "# 2. Count of special characters (e.g., non-alphabetic characters)\n",
        "train['special_char_count'] = train['full_text'].apply(lambda x: sum(not char.isalnum() for char in x))\n",
        "\n",
        "# 3. Word Count\n",
        "train['word_count'] = train['full_text'].apply(lambda x: len(x.split()))\n",
        "\n",
        "# Display a quick overview of relevant columns\n",
        "display_columns = ['essay_id', 'full_text', 'score', 'essay_length', 'special_char_count', 'word_count', 'score_zscore']\n",
        "print(train[display_columns].head())\n"
      ]
    }
  ],
  "metadata": {
    "colab": {
      "provenance": []
    },
    "kernelspec": {
      "display_name": "aicomp",
      "language": "python",
      "name": "python3"
    },
    "language_info": {
      "codemirror_mode": {
        "name": "ipython",
        "version": 3
      },
      "file_extension": ".py",
      "mimetype": "text/x-python",
      "name": "python",
      "nbconvert_exporter": "python",
      "pygments_lexer": "ipython3",
      "version": "3.11.9"
    }
  },
  "nbformat": 4,
  "nbformat_minor": 0
}
