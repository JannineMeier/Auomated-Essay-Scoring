{
 "cells": [
  {
   "cell_type": "markdown",
   "id": "552ec552",
   "metadata": {},
   "source": [
    "# SetFit for Multilabel Text Classification"
   ]
  },
  {
   "cell_type": "markdown",
   "id": "2161278e",
   "metadata": {},
   "source": [
    "Put use_small_subset = False for full dataset training.\n",
    "Put use_small_subset = True if you want to set fixed samples per subset."
   ]
  },
  {
   "cell_type": "markdown",
   "id": "174eeed5",
   "metadata": {},
   "source": [
    "Please adjust as needed\n",
    "- use_small_subset (True if you want to use num_per score)\n",
    "- dataset_option (which dataset you want to train with)\n",
    "- num_per_score (probably the more the better)\n",
    "- num folds (at least 2 but more is better)\n",
    "- batchsize \n",
    "- epochs \n",
    "- max_words (?)"
   ]
  },
  {
   "cell_type": "code",
   "execution_count": null,
   "id": "d26880e1",
   "metadata": {},
   "outputs": [
    {
     "name": "stdout",
     "output_type": "stream",
     "text": [
      "Loading dataset...\n",
      "Dataset loaded successfully!\n",
      "Training with the whole dataset.\n",
      "\n",
      "Total samples in the selected dataset: 17307\n",
      "Samples per category:\n",
      "  Score 1: 1252 samples\n",
      "  Score 2: 4723 samples\n",
      "  Score 3: 6280 samples\n",
      "  Score 4: 3926 samples\n",
      "  Score 5: 970 samples\n",
      "  Score 6: 156 samples\n"
     ]
    }
   ],
   "source": [
    "from dotenv import load_dotenv\n",
    "load_dotenv()\n",
    "import os\n",
    "import numpy as np\n",
    "import torch\n",
    "from datasets import load_dataset, DatasetDict, Dataset\n",
    "from transformers import EarlyStoppingCallback\n",
    "from setfit import SetFitModel, Trainer, TrainingArguments\n",
    "from sklearn.model_selection import KFold\n",
    "from collections import defaultdict, Counter\n",
    "from sklearn.metrics import cohen_kappa_score\n",
    "import kagglehub\n",
    "import shutil\n",
    "import re\n",
    "from sklearn.metrics import confusion_matrix, ConfusionMatrixDisplay\n",
    "import matplotlib.pyplot as plt\n",
    "\n",
    "# Toggle between full dataset and smaller subset for debugging\n",
    "use_small_subset = True  # Set to False for full dataset\n",
    "\n",
    "# Options: \"kaggle\", \"persuade\", or \"whole\"\n",
    "dataset_option = \"whole\"  # Choose the dataset to train on\n",
    "\n",
    "# Number of samples per score (category)\n",
    "num_per_score = 50  # Adjust as needed for balanced dataset creation\n",
    "num_folds = 2  # Number of folds for k-fold cross-validation\n",
    "\n",
    "max_words=4096\n",
    "\n",
    "huggingface_username = 'HSLU-AICOMP-LearningAgencyLab'\n",
    "our_model_name = 'automated-essay-scoring-setfit-finetuned'\n",
    "\n",
    "# Dataset and project configuration\n",
    "dataset_path = \"HSLU-AICOMP-LearningAgencyLab/whole_kaggle_dataset\"\n",
    "\n",
    "os.environ[\"NCCL_P2P_DISABLE\"] = \"1\"\n",
    "os.environ[\"NCCL_IB_DISABLE\"] = \"1\"\n",
    "\n",
    "# Preprocessing function with\n",
    "def truncate_text(example):\n",
    "    words = example[\"full_text\"].split()\n",
    "    example[\"text\"] = \" \".join(words[:max_words]) if len(words) > max_words else example[\"full_text\"]\n",
    "    return example\n",
    "\n",
    "# Create a balanced subset with fixed samples per score\n",
    "def create_balanced_subset(dataset, num_per_score, label_column=\"score\"):\n",
    "    print(f\"Creating a balanced subset with {num_per_score} samples per score...\")\n",
    "    category_samples = defaultdict(list)\n",
    "\n",
    "    # Group samples by category\n",
    "    for sample in dataset:\n",
    "        category_samples[sample[label_column]].append(sample)\n",
    "\n",
    "    # Select a fixed number of samples per category\n",
    "    balanced_samples = []\n",
    "    for category, samples in category_samples.items():\n",
    "        selected_samples = samples[:num_per_score]  # Limit to num_per_score per category\n",
    "        balanced_samples.extend(selected_samples)\n",
    "\n",
    "    return Dataset.from_list(balanced_samples)\n",
    "\n",
    "# Create k-fold splits with internal 80/20 distribution\n",
    "def create_kfold_splits(dataset, k=5, test_size=0.2, seed=42):\n",
    "    print(f\"Splitting dataset into {k} folds with 80/20 train-eval distribution...\")\n",
    "    kf = KFold(n_splits=k, shuffle=True, random_state=seed)\n",
    "    splits = []\n",
    "    \n",
    "    for fold, (train_idx, eval_idx) in enumerate(kf.split(dataset)):\n",
    "        # Split the current fold into train and eval sets\n",
    "        train_data = dataset.select(train_idx)\n",
    "        eval_data = dataset.select(eval_idx)\n",
    "\n",
    "        # Further split train_data into 80/20 distribution using Hugging Face's method\n",
    "        split = train_data.train_test_split(test_size=test_size, seed=seed)\n",
    "        train_split, eval_split = split[\"train\"], split[\"test\"]\n",
    "\n",
    "        splits.append(DatasetDict({\n",
    "            \"train\": train_split,\n",
    "            \"test\": eval_split,\n",
    "        }))\n",
    "        print(f\"Fold {fold + 1}: {len(train_split)} train samples, {len(eval_split)} eval samples.\")\n",
    "    \n",
    "    return splits\n",
    "\n",
    "# Load dataset from Hugging Face\n",
    "print(\"Loading dataset...\")\n",
    "full_dataset = load_dataset(dataset_path)\n",
    "print(\"Dataset loaded successfully!\")\n",
    "\n",
    "# Filter dataset based on user option\n",
    "if dataset_option == \"kaggle\":\n",
    "    print(\"Training with Kaggle-only dataset (not in Persuade corpus).\")\n",
    "    selected_dataset = full_dataset.filter(lambda x: not x.get(\"in_persuade_corpus\", False))\n",
    "elif dataset_option == \"persuade\":\n",
    "    print(\"Training with Persuade-only dataset (in Persuade corpus).\")\n",
    "    selected_dataset = full_dataset.filter(lambda x: x.get(\"in_persuade_corpus\", False))\n",
    "else:  # whole dataset\n",
    "    print(\"Training with the whole dataset.\")\n",
    "    selected_dataset = full_dataset\n",
    "\n",
    "# Print dataset statistics\n",
    "total_samples = len(selected_dataset[\"train\"])\n",
    "category_counts = Counter(selected_dataset[\"train\"][\"score\"])\n",
    "print(f\"\\nTotal samples in the selected dataset: {total_samples}\")\n",
    "print(f\"Samples per category:\")\n",
    "for score, count in sorted(category_counts.items()):\n",
    "    print(f\"  Score {score}: {count} samples\")\n"
   ]
  },
  {
   "cell_type": "code",
   "execution_count": 2,
   "id": "549f45f3",
   "metadata": {},
   "outputs": [
    {
     "name": "stdout",
     "output_type": "stream",
     "text": [
      "Using a balanced smaller subset for debugging...\n",
      "Creating a balanced subset with 50 samples per score...\n",
      "Truncating text to 4096 words...\n"
     ]
    },
    {
     "data": {
      "application/vnd.jupyter.widget-view+json": {
       "model_id": "da23f09c46e2488dac3649c972c94e6d",
       "version_major": 2,
       "version_minor": 0
      },
      "text/plain": [
       "Map:   0%|          | 0/300 [00:00<?, ? examples/s]"
      ]
     },
     "metadata": {},
     "output_type": "display_data"
    },
    {
     "name": "stdout",
     "output_type": "stream",
     "text": [
      "Splitting dataset into 2 folds with 80/20 train-eval distribution...\n",
      "Fold 1: 120 train samples, 30 eval samples.\n",
      "Fold 2: 120 train samples, 30 eval samples.\n",
      "Preprocessing Fold 1...\n",
      "Converting labels and filtering columns...\n"
     ]
    },
    {
     "data": {
      "application/vnd.jupyter.widget-view+json": {
       "model_id": "6934c08efe4441af857d47f5835037c8",
       "version_major": 2,
       "version_minor": 0
      },
      "text/plain": [
       "Map:   0%|          | 0/120 [00:00<?, ? examples/s]"
      ]
     },
     "metadata": {},
     "output_type": "display_data"
    },
    {
     "name": "stdout",
     "output_type": "stream",
     "text": [
      "Converting labels and filtering columns...\n"
     ]
    },
    {
     "data": {
      "application/vnd.jupyter.widget-view+json": {
       "model_id": "9bd453d1de11437ba90015ca21783da8",
       "version_major": 2,
       "version_minor": 0
      },
      "text/plain": [
       "Map:   0%|          | 0/30 [00:00<?, ? examples/s]"
      ]
     },
     "metadata": {},
     "output_type": "display_data"
    },
    {
     "name": "stdout",
     "output_type": "stream",
     "text": [
      "Preprocessing Fold 2...\n",
      "Converting labels and filtering columns...\n"
     ]
    },
    {
     "data": {
      "application/vnd.jupyter.widget-view+json": {
       "model_id": "02c938cc5a2542e08738130f04aab64e",
       "version_major": 2,
       "version_minor": 0
      },
      "text/plain": [
       "Map:   0%|          | 0/120 [00:00<?, ? examples/s]"
      ]
     },
     "metadata": {},
     "output_type": "display_data"
    },
    {
     "name": "stdout",
     "output_type": "stream",
     "text": [
      "Converting labels and filtering columns...\n"
     ]
    },
    {
     "data": {
      "application/vnd.jupyter.widget-view+json": {
       "model_id": "35ef954c03b24edd82253f7e5157d106",
       "version_major": 2,
       "version_minor": 0
      },
      "text/plain": [
       "Map:   0%|          | 0/30 [00:00<?, ? examples/s]"
      ]
     },
     "metadata": {},
     "output_type": "display_data"
    },
    {
     "name": "stdout",
     "output_type": "stream",
     "text": [
      "Number of folds: 2\n",
      "Fold 1: 120 train samples, 30 eval samples.\n",
      "Fold 2: 120 train samples, 30 eval samples.\n",
      "Loading your specified model...\n"
     ]
    },
    {
     "name": "stderr",
     "output_type": "stream",
     "text": [
      "Applying column mapping to the training dataset\n",
      "Applying column mapping to the evaluation dataset\n",
      "Currently using DataParallel (DP) for multi-gpu training, while DistributedDataParallel (DDP) is recommended for faster training. See https://sbert.net/docs/sentence_transformer/training/distributed.html for more information.\n"
     ]
    },
    {
     "name": "stdout",
     "output_type": "stream",
     "text": [
      "Model loaded and moved to cuda.\n",
      "Setting up the Trainer...\n"
     ]
    },
    {
     "data": {
      "application/vnd.jupyter.widget-view+json": {
       "model_id": "42b7caa5a598475390a6533aa9a5a4d3",
       "version_major": 2,
       "version_minor": 0
      },
      "text/plain": [
       "Map:   0%|          | 0/120 [00:00<?, ? examples/s]"
      ]
     },
     "metadata": {},
     "output_type": "display_data"
    },
    {
     "name": "stdout",
     "output_type": "stream",
     "text": [
      "Training Fold 1...\n"
     ]
    },
    {
     "name": "stderr",
     "output_type": "stream",
     "text": [
      "***** Running training *****\n",
      "  Num unique pairs = 11924\n",
      "  Batch size = 2\n",
      "  Num epochs = 3\n",
      "\u001b[34m\u001b[1mwandb\u001b[0m: Using wandb-core as the SDK backend. Please refer to https://wandb.me/wandb-core for more information.\n",
      "\u001b[34m\u001b[1mwandb\u001b[0m: Currently logged in as: \u001b[33mleo1212\u001b[0m (\u001b[33mhslu_nlp\u001b[0m). Use \u001b[1m`wandb login --relogin`\u001b[0m to force relogin\n",
      "/home/leonkrug/anaconda3/envs/aicomp/lib/python3.11/site-packages/wandb/sdk/lib/ipython.py:77: DeprecationWarning: Importing display from IPython.core.display is deprecated since IPython 7.14, please import from IPython display\n",
      "  from IPython.core.display import HTML, display  # type: ignore\n"
     ]
    },
    {
     "data": {
      "text/html": [
       "Tracking run with wandb version 0.18.5"
      ],
      "text/plain": [
       "<IPython.core.display.HTML object>"
      ]
     },
     "metadata": {},
     "output_type": "display_data"
    },
    {
     "data": {
      "text/html": [
       "Run data is saved locally in <code>/home/leonkrug/Documents/repos/gitlab/HSLU/AICOMP/code/notebooks/wandb/run-20241203_155126-5roibmmx</code>"
      ],
      "text/plain": [
       "<IPython.core.display.HTML object>"
      ]
     },
     "metadata": {},
     "output_type": "display_data"
    },
    {
     "data": {
      "text/html": [
       "Syncing run <strong><a href='https://wandb.ai/hslu_nlp/sentence-transformers/runs/5roibmmx' target=\"_blank\">worthy-terrain-16</a></strong> to <a href='https://wandb.ai/hslu_nlp/sentence-transformers' target=\"_blank\">Weights & Biases</a> (<a href='https://wandb.me/run' target=\"_blank\">docs</a>)<br/>"
      ],
      "text/plain": [
       "<IPython.core.display.HTML object>"
      ]
     },
     "metadata": {},
     "output_type": "display_data"
    },
    {
     "data": {
      "text/html": [
       " View project at <a href='https://wandb.ai/hslu_nlp/sentence-transformers' target=\"_blank\">https://wandb.ai/hslu_nlp/sentence-transformers</a>"
      ],
      "text/plain": [
       "<IPython.core.display.HTML object>"
      ]
     },
     "metadata": {},
     "output_type": "display_data"
    },
    {
     "data": {
      "text/html": [
       " View run at <a href='https://wandb.ai/hslu_nlp/sentence-transformers/runs/5roibmmx' target=\"_blank\">https://wandb.ai/hslu_nlp/sentence-transformers/runs/5roibmmx</a>"
      ],
      "text/plain": [
       "<IPython.core.display.HTML object>"
      ]
     },
     "metadata": {},
     "output_type": "display_data"
    },
    {
     "data": {
      "application/vnd.jupyter.widget-view+json": {
       "model_id": "bb384933f6d34da4beb9dff353e8feb8",
       "version_major": 2,
       "version_minor": 0
      },
      "text/plain": [
       "  0%|          | 0/8943 [00:00<?, ?it/s]"
      ]
     },
     "metadata": {},
     "output_type": "display_data"
    },
    {
     "name": "stderr",
     "output_type": "stream",
     "text": [
      "Input ids are automatically padded to be a multiple of `config.attention_window`: 512\n"
     ]
    },
    {
     "name": "stdout",
     "output_type": "stream",
     "text": [
      "{'embedding_loss': 0.2537, 'grad_norm': 0.5783407688140869, 'learning_rate': 2.2346368715083798e-08, 'epoch': 0.0}\n",
      "{'embedding_loss': 0.0338, 'grad_norm': 0.03836971893906593, 'learning_rate': 1.4816103379721672e-05, 'epoch': 1.0}\n"
     ]
    },
    {
     "data": {
      "application/vnd.jupyter.widget-view+json": {
       "model_id": "5a08dfd36f4a4aa38343aea920e3b1a3",
       "version_major": 2,
       "version_minor": 0
      },
      "text/plain": [
       "  0%|          | 0/173 [00:00<?, ?it/s]"
      ]
     },
     "metadata": {},
     "output_type": "display_data"
    },
    {
     "name": "stdout",
     "output_type": "stream",
     "text": [
      "{'eval_embedding_loss': 0.20453353226184845, 'eval_embedding_runtime': 66.2863, 'eval_embedding_samples_per_second': 10.44, 'eval_embedding_steps_per_second': 2.61, 'epoch': 1.0}\n"
     ]
    },
    {
     "data": {
      "application/vnd.jupyter.widget-view+json": {
       "model_id": "41075ebea71a4440add9eb2cec7d7d5e",
       "version_major": 2,
       "version_minor": 0
      },
      "text/plain": [
       "Computing widget examples:   0%|          | 0/1 [00:00<?, ?example/s]"
      ]
     },
     "metadata": {},
     "output_type": "display_data"
    },
    {
     "name": "stdout",
     "output_type": "stream",
     "text": [
      "{'embedding_loss': 0.009, 'grad_norm': 0.004601947497576475, 'learning_rate': 7.408051689860836e-06, 'epoch': 2.0}\n"
     ]
    },
    {
     "data": {
      "application/vnd.jupyter.widget-view+json": {
       "model_id": "12eefac5304b4608ac50f649a58bfe53",
       "version_major": 2,
       "version_minor": 0
      },
      "text/plain": [
       "  0%|          | 0/173 [00:00<?, ?it/s]"
      ]
     },
     "metadata": {},
     "output_type": "display_data"
    },
    {
     "name": "stdout",
     "output_type": "stream",
     "text": [
      "{'eval_embedding_loss': 0.17847907543182373, 'eval_embedding_runtime': 64.8847, 'eval_embedding_samples_per_second': 10.665, 'eval_embedding_steps_per_second': 2.666, 'epoch': 2.0}\n",
      "{'embedding_loss': 0.0, 'grad_norm': 0.004803077783435583, 'learning_rate': 0.0, 'epoch': 3.0}\n"
     ]
    },
    {
     "data": {
      "application/vnd.jupyter.widget-view+json": {
       "model_id": "ce8e20a3e1ed40fb903b027686d81fa9",
       "version_major": 2,
       "version_minor": 0
      },
      "text/plain": [
       "  0%|          | 0/173 [00:00<?, ?it/s]"
      ]
     },
     "metadata": {},
     "output_type": "display_data"
    },
    {
     "name": "stdout",
     "output_type": "stream",
     "text": [
      "{'eval_embedding_loss': 0.17950206995010376, 'eval_embedding_runtime': 65.0505, 'eval_embedding_samples_per_second': 10.638, 'eval_embedding_steps_per_second': 2.659, 'epoch': 3.0}\n",
      "{'train_runtime': 6427.4004, 'train_samples_per_second': 5.566, 'train_steps_per_second': 1.391, 'train_loss': 0.01430612819355319, 'epoch': 3.0}\n"
     ]
    },
    {
     "data": {
      "application/vnd.jupyter.widget-view+json": {
       "model_id": "537178a14b154696ad8a48c19de9588f",
       "version_major": 2,
       "version_minor": 0
      },
      "text/plain": [
       "model.safetensors:   0%|          | 0.00/595M [00:00<?, ?B/s]"
      ]
     },
     "metadata": {},
     "output_type": "display_data"
    },
    {
     "data": {
      "application/vnd.jupyter.widget-view+json": {
       "model_id": "8ebc77d395bf495291088d6fa24a0447",
       "version_major": 2,
       "version_minor": 0
      },
      "text/plain": [
       "Upload 2 LFS files:   0%|          | 0/2 [00:00<?, ?it/s]"
      ]
     },
     "metadata": {},
     "output_type": "display_data"
    },
    {
     "data": {
      "application/vnd.jupyter.widget-view+json": {
       "model_id": "7fcba432e81243c19e5be04ce259928f",
       "version_major": 2,
       "version_minor": 0
      },
      "text/plain": [
       "model_head.pkl:   0%|          | 0.00/37.8k [00:00<?, ?B/s]"
      ]
     },
     "metadata": {},
     "output_type": "display_data"
    },
    {
     "data": {
      "application/vnd.jupyter.widget-view+json": {
       "model_id": "80e3ac7dfe0d44f98e118dc14073f6cf",
       "version_major": 2,
       "version_minor": 0
      },
      "text/plain": [
       "README.md:   0%|          | 0.00/124k [00:00<?, ?B/s]"
      ]
     },
     "metadata": {},
     "output_type": "display_data"
    },
    {
     "data": {
      "application/vnd.jupyter.widget-view+json": {
       "model_id": "0c4691b9d9854eaeb774cc006e557a29",
       "version_major": 2,
       "version_minor": 0
      },
      "text/plain": [
       "model.safetensors:   0%|          | 0.00/595M [00:00<?, ?B/s]"
      ]
     },
     "metadata": {},
     "output_type": "display_data"
    },
    {
     "data": {
      "application/vnd.jupyter.widget-view+json": {
       "model_id": "232520919c724570a33c3f4fef71d06d",
       "version_major": 2,
       "version_minor": 0
      },
      "text/plain": [
       "model_head.pkl:   0%|          | 0.00/37.8k [00:00<?, ?B/s]"
      ]
     },
     "metadata": {},
     "output_type": "display_data"
    },
    {
     "name": "stdout",
     "output_type": "stream",
     "text": [
      "Model for Fold 1 reloaded.\n",
      "Training Fold 2...\n"
     ]
    },
    {
     "name": "stderr",
     "output_type": "stream",
     "text": [
      "***** Running training *****\n",
      "  Num unique pairs = 11918\n",
      "  Batch size = 2\n",
      "  Num epochs = 3\n"
     ]
    },
    {
     "data": {
      "application/vnd.jupyter.widget-view+json": {
       "model_id": "6f9a1f5241b542009a679a1a935e01d1",
       "version_major": 2,
       "version_minor": 0
      },
      "text/plain": [
       "  0%|          | 0/8940 [00:00<?, ?it/s]"
      ]
     },
     "metadata": {},
     "output_type": "display_data"
    },
    {
     "name": "stdout",
     "output_type": "stream",
     "text": [
      "{'embedding_loss': 0.0087, 'grad_norm': 8.307008743286133, 'learning_rate': 2.237136465324385e-08, 'epoch': 0.0}\n",
      "{'embedding_loss': 0.0276, 'grad_norm': 0.0008072669734247029, 'learning_rate': 1.4814814814814815e-05, 'epoch': 1.0}\n"
     ]
    },
    {
     "data": {
      "application/vnd.jupyter.widget-view+json": {
       "model_id": "5e73761d869349a0b08020822542ea01",
       "version_major": 2,
       "version_minor": 0
      },
      "text/plain": [
       "  0%|          | 0/178 [00:00<?, ?it/s]"
      ]
     },
     "metadata": {},
     "output_type": "display_data"
    },
    {
     "name": "stdout",
     "output_type": "stream",
     "text": [
      "{'eval_embedding_loss': 0.22545726597309113, 'eval_embedding_runtime': 67.7821, 'eval_embedding_samples_per_second': 10.475, 'eval_embedding_steps_per_second': 2.626, 'epoch': 1.0}\n",
      "{'embedding_loss': 0.0073, 'grad_norm': 0.006482354365289211, 'learning_rate': 7.4074074074074075e-06, 'epoch': 2.0}\n"
     ]
    },
    {
     "data": {
      "application/vnd.jupyter.widget-view+json": {
       "model_id": "ec125fa217a84fd3b462a5e0c818ae44",
       "version_major": 2,
       "version_minor": 0
      },
      "text/plain": [
       "  0%|          | 0/178 [00:00<?, ?it/s]"
      ]
     },
     "metadata": {},
     "output_type": "display_data"
    },
    {
     "name": "stdout",
     "output_type": "stream",
     "text": [
      "{'eval_embedding_loss': 0.2426733374595642, 'eval_embedding_runtime': 67.7373, 'eval_embedding_samples_per_second': 10.482, 'eval_embedding_steps_per_second': 2.628, 'epoch': 2.0}\n",
      "{'embedding_loss': 0.0, 'grad_norm': 0.009506169706583023, 'learning_rate': 0.0, 'epoch': 3.0}\n"
     ]
    },
    {
     "data": {
      "application/vnd.jupyter.widget-view+json": {
       "model_id": "3d7e51e5bd9646f79eeb069691b6abcb",
       "version_major": 2,
       "version_minor": 0
      },
      "text/plain": [
       "  0%|          | 0/178 [00:00<?, ?it/s]"
      ]
     },
     "metadata": {},
     "output_type": "display_data"
    },
    {
     "name": "stdout",
     "output_type": "stream",
     "text": [
      "{'eval_embedding_loss': 0.2341785728931427, 'eval_embedding_runtime': 67.7601, 'eval_embedding_samples_per_second': 10.478, 'eval_embedding_steps_per_second': 2.627, 'epoch': 3.0}\n",
      "{'train_runtime': 6060.2963, 'train_samples_per_second': 5.9, 'train_steps_per_second': 1.475, 'train_loss': 0.011631697506520905, 'epoch': 3.0}\n"
     ]
    },
    {
     "name": "stderr",
     "output_type": "stream",
     "text": [
      "/home/leonkrug/anaconda3/envs/aicomp/lib/python3.11/site-packages/sklearn/linear_model/_logistic.py:469: ConvergenceWarning: lbfgs failed to converge (status=1):\n",
      "STOP: TOTAL NO. of ITERATIONS REACHED LIMIT.\n",
      "\n",
      "Increase the number of iterations (max_iter) or scale the data as shown in:\n",
      "    https://scikit-learn.org/stable/modules/preprocessing.html\n",
      "Please also refer to the documentation for alternative solver options:\n",
      "    https://scikit-learn.org/stable/modules/linear_model.html#logistic-regression\n",
      "  n_iter_i = _check_optimize_result(\n"
     ]
    },
    {
     "data": {
      "application/vnd.jupyter.widget-view+json": {
       "model_id": "a016cee9d9894dddbb4dfb1acdeb37d1",
       "version_major": 2,
       "version_minor": 0
      },
      "text/plain": [
       "model_head.pkl:   0%|          | 0.00/37.8k [00:00<?, ?B/s]"
      ]
     },
     "metadata": {},
     "output_type": "display_data"
    },
    {
     "data": {
      "application/vnd.jupyter.widget-view+json": {
       "model_id": "97ed239d8fd74e869669979d17d85e60",
       "version_major": 2,
       "version_minor": 0
      },
      "text/plain": [
       "README.md:   0%|          | 0.00/4.97k [00:00<?, ?B/s]"
      ]
     },
     "metadata": {},
     "output_type": "display_data"
    },
    {
     "data": {
      "application/vnd.jupyter.widget-view+json": {
       "model_id": "73c72391028247d6a08246ab1c9df59b",
       "version_major": 2,
       "version_minor": 0
      },
      "text/plain": [
       "model_head.pkl:   0%|          | 0.00/37.8k [00:00<?, ?B/s]"
      ]
     },
     "metadata": {},
     "output_type": "display_data"
    },
    {
     "name": "stdout",
     "output_type": "stream",
     "text": [
      "Model for Fold 2 reloaded.\n"
     ]
    }
   ],
   "source": [
    "# Use balanced subset if number of samples per score are set\n",
    "if use_small_subset:\n",
    "    print(\"Using a balanced smaller subset for debugging...\")\n",
    "    balanced_subset = create_balanced_subset(selected_dataset[\"train\"], num_per_score=num_per_score)\n",
    "else:\n",
    "    balanced_subset = selected_dataset[\"train\"]\n",
    "\n",
    "# Apply truncation preprocessing\n",
    "print(f\"Truncating text to {max_words} words...\")\n",
    "balanced_subset = balanced_subset.map(truncate_text, batched=False)\n",
    "\n",
    "# Create k-fold splits\n",
    "kfold_splits = create_kfold_splits(balanced_subset, k=num_folds)\n",
    "\n",
    "# Preprocess dataset for training\n",
    "def preprocess_dataset(dataset):\n",
    "    print(\"Converting labels and filtering columns...\")\n",
    "    dataset = dataset.map(lambda x: {\"label\": int(x[\"score\"])})\n",
    "    columns_to_keep = [\"text\", \"label\"]\n",
    "    return dataset.remove_columns([col for col in dataset.column_names if col not in columns_to_keep])\n",
    "\n",
    "# Preprocess each fold\n",
    "for fold, split in enumerate(kfold_splits):\n",
    "    print(f\"Preprocessing Fold {fold + 1}...\")\n",
    "    kfold_splits[fold][\"train\"] = preprocess_dataset(split[\"train\"])\n",
    "    kfold_splits[fold][\"test\"] = preprocess_dataset(split[\"test\"])\n",
    "\n",
    "# Verify dataset sizes\n",
    "print(f\"Number of folds: {num_folds}\")\n",
    "for fold, split in enumerate(kfold_splits):\n",
    "    print(f\"Fold {fold + 1}: {len(split['train'])} train samples, {len(split['test'])} eval samples.\")\n",
    "\n",
    "def compute_qwk(y_pred, y_true):\n",
    "    y_pred = np.argmax(y_pred, axis=1) if y_pred.ndim > 1 else y_pred\n",
    "    return {\"qwk\": cohen_kappa_score(y_true, y_pred, weights='quadratic')}\n",
    "\n",
    "# Load your specified model\n",
    "print(\"Loading your specified model...\")\n",
    "model_id = \"HSLU-AICOMP-LearningAgencyLab/automated-essay-scoring-setfit\"\n",
    "model = SetFitModel.from_pretrained(model_id)\n",
    "device = torch.device(\"cuda\" if torch.cuda.is_available() else \"cpu\")\n",
    "model.to(device)\n",
    "print(f\"Model loaded and moved to {device}.\")\n",
    "\n",
    "# Optimized training arguments\n",
    "batch_size = 2  # Small batch size for testing\n",
    "num_epochs = 3  # Reduce epochs for faster iteration during debugging\n",
    "use_amp = True  # Enable mixed precision training\n",
    "\n",
    "args = TrainingArguments(\n",
    "    batch_size=batch_size,\n",
    "    num_epochs=num_epochs,\n",
    "    use_amp=use_amp,\n",
    "    report_to=None,  # Disable W&B logging for faster debugging\n",
    "    logging_strategy=\"epoch\",\n",
    "    eval_strategy=\"epoch\",\n",
    "    save_strategy=\"epoch\",\n",
    "    load_best_model_at_end=True,\n",
    ")\n",
    "\n",
    "# Trainer setup and training on the first fold for demonstration\n",
    "print(\"Setting up the Trainer...\")\n",
    "trainer = Trainer(\n",
    "    model=model,\n",
    "    args=args,\n",
    "    train_dataset=kfold_splits[0][\"train\"],  # Use only the first fold for demonstration\n",
    "    eval_dataset=kfold_splits[0][\"test\"],\n",
    "    metric=compute_qwk,\n",
    "    column_mapping={\"text\": \"text\", \"label\": \"label\"},\n",
    "    callbacks=[EarlyStoppingCallback(early_stopping_patience=3)],\n",
    ")\n",
    "\n",
    "for fold, split in enumerate(kfold_splits):\n",
    "    print(f\"Training Fold {fold + 1}...\")\n",
    "    trainer.train_dataset = kfold_splits[fold][\"train\"]\n",
    "    trainer.eval_dataset = kfold_splits[fold][\"test\"]\n",
    "    trainer.train()\n",
    "\n",
    "    # Save the best model for the fold\n",
    "    trainer.push_to_hub(f\"{huggingface_username}/{our_model_name}\", private=True)\n",
    "\n",
    "    # Release old model to free GPU memory\n",
    "    del model\n",
    "    torch.cuda.empty_cache()\n",
    "    \n",
    "    # Reload the best model for the next fold\n",
    "    model = SetFitModel.from_pretrained(f\"{huggingface_username}/{our_model_name}\")\n",
    "    model.to(device)\n",
    "    trainer.model = model\n",
    "    print(f\"Model for Fold {fold + 1} reloaded.\")"
   ]
  },
  {
   "cell_type": "code",
   "execution_count": 3,
   "id": "a6f391db",
   "metadata": {},
   "outputs": [],
   "source": [
    "dataset_name = 'learning-agency-lab-automated-essay-scoring-2_V3'\n",
    "\n",
    "dataset_with_split = load_dataset(f\"{huggingface_username}/{dataset_name}\")"
   ]
  },
  {
   "cell_type": "code",
   "execution_count": 4,
   "id": "ea8eb749",
   "metadata": {},
   "outputs": [],
   "source": [
    "def count_words(text):\n",
    "    words = re.findall(r'\\b\\w+\\b', text.lower())\n",
    "    return len(words)\n",
    "\n",
    "def truncate_text(text, max_words=384):\n",
    "    words = text.split()\n",
    "    return ' '.join(words[:max_words])\n",
    "\n",
    "def subsample_dataset(dataset, split='train', score_column='score', num_per_score=15, max_words=384):\n",
    "    reduced_dataset_list = []\n",
    "\n",
    "    for score in range(1, 7):\n",
    "        filtered = dataset[split].filter(lambda x: x[score_column] == score)\n",
    "        filtered = filtered.map(lambda x: {'text': truncate_text(x['full_text'], max_words) if count_words(x['full_text']) > max_words else x['full_text']})\n",
    "\n",
    "        if len(filtered) > 0:\n",
    "            sample_count = min(len(filtered), num_per_score)\n",
    "            reduced_dataset_list.append(filtered.shuffle(seed=42).select(range(sample_count)))\n",
    "\n",
    "    reduced_dataset = Dataset.from_dict({k: sum([d[k] for d in reduced_dataset_list], []) for k in reduced_dataset_list[0].column_names})\n",
    "    return reduced_dataset\n",
    "\n",
    "def preprocess_datasets(num_per_score, max_words, fullEvalSet=False):\n",
    "\n",
    "    eval_num_per_score = num_per_score\n",
    "    if fullEvalSet == True:\n",
    "        eval_num_per_score = 10000\n",
    "\n",
    "    reduced_dataset_train = subsample_dataset(dataset_with_split, split='train', num_per_score=num_per_score, max_words=max_words)\n",
    "    reduced_dataset_eval = subsample_dataset(dataset_with_split, split='eval', num_per_score=eval_num_per_score, max_words=max_words)\n",
    "\n",
    "    def convert_label(record):\n",
    "        record['label'] = int(record['score'])\n",
    "        return record\n",
    "\n",
    "    train_dataset = reduced_dataset_train.map(convert_label)\n",
    "    eval_dataset = reduced_dataset_eval.map(convert_label)\n",
    "\n",
    "    columns_to_keep = ['text', 'label']\n",
    "    train_dataset = train_dataset.remove_columns([col for col in train_dataset.column_names if col not in columns_to_keep])\n",
    "    eval_dataset = eval_dataset.remove_columns([col for col in eval_dataset.column_names if col not in columns_to_keep])\n",
    "\n",
    "    train_dataset = train_dataset.map(lambda x: {\"label\": int(x[\"label\"])})\n",
    "    eval_dataset = eval_dataset.map(lambda x: {\"label\": int(x[\"label\"])})\n",
    "    return train_dataset, eval_dataset"
   ]
  },
  {
   "cell_type": "code",
   "execution_count": 5,
   "id": "c20aefde",
   "metadata": {},
   "outputs": [
    {
     "data": {
      "application/vnd.jupyter.widget-view+json": {
       "model_id": "08e6e900c12647eaba69629c0ccbadd7",
       "version_major": 2,
       "version_minor": 0
      },
      "text/plain": [
       "Map:   0%|          | 0/300 [00:00<?, ? examples/s]"
      ]
     },
     "metadata": {},
     "output_type": "display_data"
    },
    {
     "data": {
      "application/vnd.jupyter.widget-view+json": {
       "model_id": "0f6e7956bfe54b8d89c115328f0e797b",
       "version_major": 2,
       "version_minor": 0
      },
      "text/plain": [
       "Map:   0%|          | 0/3462 [00:00<?, ? examples/s]"
      ]
     },
     "metadata": {},
     "output_type": "display_data"
    },
    {
     "data": {
      "application/vnd.jupyter.widget-view+json": {
       "model_id": "37930e0e008a46a68e393fa7e49db187",
       "version_major": 2,
       "version_minor": 0
      },
      "text/plain": [
       "Map:   0%|          | 0/300 [00:00<?, ? examples/s]"
      ]
     },
     "metadata": {},
     "output_type": "display_data"
    },
    {
     "data": {
      "application/vnd.jupyter.widget-view+json": {
       "model_id": "ebabe2ccfdf54f969dd1cd14bd97e5e0",
       "version_major": 2,
       "version_minor": 0
      },
      "text/plain": [
       "Map:   0%|          | 0/3462 [00:00<?, ? examples/s]"
      ]
     },
     "metadata": {},
     "output_type": "display_data"
    },
    {
     "name": "stderr",
     "output_type": "stream",
     "text": [
      "Applying column mapping to the evaluation dataset\n",
      "***** Running evaluation *****\n"
     ]
    },
    {
     "data": {
      "text/plain": [
       "{'qwk': 0.7397646251669125}"
      ]
     },
     "execution_count": 5,
     "metadata": {},
     "output_type": "execute_result"
    }
   ],
   "source": [
    "_, full_eval_dataset = preprocess_datasets(num_per_score, max_words, fullEvalSet=True)\n",
    "\n",
    "metrics = trainer.evaluate(full_eval_dataset)\n",
    "qwk_score = metrics.get(\"qwk\", -1)\n",
    "metrics"
   ]
  },
  {
   "cell_type": "code",
   "execution_count": null,
   "id": "7ef030ba",
   "metadata": {},
   "outputs": [],
   "source": [
    "def evaluate_with_confusion_matrix(model, eval_dataset, class_labels, print_examples=False):\n",
    "\n",
    "    # Extract text and true labels from the dataset\n",
    "    print(\"Generating predictions...\")\n",
    "    eval_texts = eval_dataset[\"text\"]\n",
    "    true_labels = eval_dataset[\"label\"]\n",
    "    \n",
    "    # Use the model to predict labels\n",
    "    pred_labels = model.predict(eval_texts)\n",
    "    \n",
    "    # Compute confusion matrix\n",
    "    print(\"Calculating confusion matrix...\")\n",
    "    cm = confusion_matrix(true_labels, pred_labels, labels=np.arange(len(class_labels)))\n",
    "\n",
    "    # Print true vs predicted labels\n",
    "    if print_examples:\n",
    "        print(\"\\nPredicted vs True Labels (first 20 examples):\")\n",
    "        for i, (text, true, pred) in enumerate(zip(eval_texts, true_labels, pred_labels)):\n",
    "            print(f\"Example {i + 1}:\")\n",
    "            print(f\"  Text: {text[:100]}...\")  # Truncated text for readability\n",
    "            print(f\"  True Label: {class_labels[true]} - Predicted Label: {class_labels[pred]}\\n\")\n",
    "            if i >= 19:  # Show only the first 20 examples\n",
    "                break\n",
    "\n",
    "    # Plot confusion matrix\n",
    "    disp = ConfusionMatrixDisplay(confusion_matrix=cm, display_labels=class_labels)\n",
    "    fig, ax = plt.subplots(figsize=(10, 10))\n",
    "    disp.plot(cmap=\"Blues\", ax=ax)\n",
    "    plt.title(\"Confusion Matrix\")\n",
    "    plt.show()\n",
    "\n",
    "    return cm  # Return confusion matrix for further analysis if needed\n"
   ]
  },
  {
   "cell_type": "code",
   "execution_count": 9,
   "id": "bc423282",
   "metadata": {},
   "outputs": [
    {
     "name": "stderr",
     "output_type": "stream",
     "text": [
      "***** Running evaluation *****\n"
     ]
    },
    {
     "name": "stdout",
     "output_type": "stream",
     "text": [
      "Evaluating the model on Fold 1...\n",
      "Generating confusion matrix and predictions...\n",
      "Generating predictions...\n",
      "Calculating confusion matrix...\n",
      "\n",
      "Predicted vs True Labels (first 20 examples):\n",
      "Example 1:\n",
      "  Text: I think we should keep the electoral college be cause people can vote on electors and  not the actua...\n",
      "  True Label: Score 2 - Predicted Label: Score 3\n",
      "\n",
      "Example 2:\n",
      "  Text: Venus is the closest planet to Earth in terms of density and size, and accasionally the closest in d...\n",
      "  True Label: Score 2 - Predicted Label: Score 2\n",
      "\n",
      "Example 3:\n",
      "  Text: My position on the driverless cars are dumb if you ask me. Because what some people can't afford thi...\n",
      "  True Label: Score 2 - Predicted Label: Score 3\n",
      "\n",
      "Example 4:\n",
      "  Text: Honestly, who would think there is \"Alien Form\" on Mars, I mean some of the people are just plain st...\n",
      "  True Label: Score 2 - Predicted Label: Score 3\n",
      "\n",
      "Example 5:\n",
      "  Text: According to the article, I support the author in studying Venus. I believe this is a great idea bec...\n",
      "  True Label: Score 2 - Predicted Label: Score 3\n",
      "\n",
      "Example 6:\n",
      "  Text: Do we need to know what peoples emotions are in the classroom? This new face decoding system can tel...\n",
      "  True Label: Score 2 - Predicted Label: Score 3\n",
      "\n",
      "Example 7:\n",
      "  Text: People With cars , dont actually use cars anymore they chose to give up on them because Mant have no...\n",
      "  True Label: Score 2 - Predicted Label: Score 2\n",
      "\n",
      "Example 8:\n",
      "  Text: The face that loos like an alien could be a alien. We don't know as a team because nobody had not un...\n",
      "  True Label: Score 2 - Predicted Label: Score 3\n",
      "\n",
      "Example 9:\n",
      "  Text: Luke bomberger was just a normal high school graduate, Until his friend Don Reist asked him to go wi...\n",
      "  True Label: Score 2 - Predicted Label: Score 3\n",
      "\n",
      "Example 10:\n",
      "  Text: Dear State Senator,\n",
      "\n",
      "I am in favor of keeping the Electoral College or changing it to election by po...\n",
      "  True Label: Score 2 - Predicted Label: Score 4\n",
      "\n",
      "Example 11:\n",
      "  Text: the author is looking for the study of Venus is a worthy pursuit despite the dangers,\"A thick atmosp...\n",
      "  True Label: Score 2 - Predicted Label: Score 2\n",
      "\n",
      "Example 12:\n",
      "  Text: The technolgy is good for seeing emotions in paintings I can see that but, my question is if we actu...\n",
      "  True Label: Score 2 - Predicted Label: Score 2\n",
      "\n",
      "Example 13:\n",
      "  Text: In source 1, Elisabeth Rosenthal is inform us about the low car usage in Vauban,Germany. In Vauban, ...\n",
      "  True Label: Score 2 - Predicted Label: Score 3\n",
      "\n",
      "Example 14:\n",
      "  Text: The article is essay about \"the challenge of exploring Venus\" sometimes called the Evening star, is ...\n",
      "  True Label: Score 2 - Predicted Label: Score 3\n",
      "\n",
      "Example 15:\n",
      "  Text: The Electoral College\n",
      "\n",
      "Dear Senator of the state,\n",
      "\n",
      "I am a former citizen of the state writing to you...\n",
      "  True Label: Score 2 - Predicted Label: Score 2\n",
      "\n",
      "Example 16:\n",
      "  Text: Limiting car ussage lowers the polution rates. A quote from lisabeth Rosenthal's passge \"\n",
      "\n",
      "In German...\n",
      "  True Label: Score 2 - Predicted Label: Score 4\n",
      "\n",
      "Example 17:\n",
      "  Text: He tells us that venus shows signs of once having life and watter because of all the hills and mount...\n",
      "  True Label: Score 2 - Predicted Label: Score 2\n",
      "\n",
      "Example 18:\n",
      "  Text: The author supports his ideas by show and telling that NASA is working on other prouches to study Ve...\n",
      "  True Label: Score 2 - Predicted Label: Score 3\n",
      "\n",
      "Example 19:\n",
      "  Text: Cars aren't really necessary in a community. They burn gas and pollute the earth very frequently. In...\n",
      "  True Label: Score 2 - Predicted Label: Score 3\n",
      "\n",
      "Example 20:\n",
      "  Text: What is the electoral college? is when the people voten for meeting the President and Vice President...\n",
      "  True Label: Score 2 - Predicted Label: Score 3\n",
      "\n"
     ]
    },
    {
     "data": {
      "image/png": "[encoded data removed]",
      "text/plain": [
       "<Figure size 1000x1000 with 2 Axes>"
      ]
     },
     "metadata": {},
     "output_type": "display_data"
    },
    {
     "name": "stdout",
     "output_type": "stream",
     "text": [
      "Evaluation results: {'qwk': 0.7458703939008895}\n"
     ]
    }
   ],
   "source": [
    "# Define the class labels explicitly\n",
    "class_labels = [\"Score 1\", \"Score 2\", \"Score 3\", \"Score 4\", \"Score 5\", \"Score 6\"]\n",
    "\n",
    "# Evaluate the model and display the confusion matrix\n",
    "print(\"Evaluating the model on Fold 1...\")\n",
    "metrics = trainer.evaluate()\n",
    "\n",
    "# Generate confusion matrix and print true vs predicted labels\n",
    "print(\"Generating confusion matrix and predictions...\")\n",
    "confusion_matrix_result = evaluate_with_confusion_matrix(\n",
    "    model, full_eval_dataset, class_labels, print_examples=True\n",
    ")\n",
    "\n",
    "# Print evaluation results\n",
    "print(\"Evaluation results:\", metrics)\n"
   ]
  },
  {
   "cell_type": "markdown",
   "id": "f021b168-02d2-4cc8-942d-65d3b821e253",
   "metadata": {},
   "source": [
    "And once the model is trained, you can push it to the Hub:"
   ]
  },
  {
   "cell_type": "code",
   "execution_count": 8,
   "id": "c420c4b9-1552-45a5-888c-cdbb78f8e4fc",
   "metadata": {
    "scrolled": true
   },
   "outputs": [
    {
     "data": {
      "text/plain": [
       "CommitInfo(commit_url='https://huggingface.co/HSLU-AICOMP-LearningAgencyLab/automated-essay-scoring-setfit-finetuned/commit/2fa6d618a46bfd140d5ca98e3a99e66802f18d5f', commit_message='Add SetFit model', commit_description='', oid='2fa6d618a46bfd140d5ca98e3a99e66802f18d5f', pr_url=None, repo_url=RepoUrl('https://huggingface.co/HSLU-AICOMP-LearningAgencyLab/automated-essay-scoring-setfit-finetuned', endpoint='https://huggingface.co', repo_type='model', repo_id='HSLU-AICOMP-LearningAgencyLab/automated-essay-scoring-setfit-finetuned'), pr_revision=None, pr_num=None)"
      ]
     },
     "execution_count": 8,
     "metadata": {},
     "output_type": "execute_result"
    }
   ],
   "source": [
    "trainer.push_to_hub(f\"{huggingface_username}/{our_model_name}\", private=True)"
   ]
  },
  {
   "cell_type": "markdown",
   "id": "2ab2c738",
   "metadata": {},
   "source": [
    "Upload to KaggleHub"
   ]
  },
  {
   "cell_type": "code",
   "execution_count": 10,
   "id": "2b5e5623-0452-4d36-8eb0-cfb36c8664da",
   "metadata": {},
   "outputs": [
    {
     "data": {
      "application/vnd.jupyter.widget-view+json": {
       "model_id": "32a7f1db44334fdb8cf6fdbd6181d275",
       "version_major": 2,
       "version_minor": 0
      },
      "text/plain": [
       "README.md:   0%|          | 0.00/4.71k [00:00<?, ?B/s]"
      ]
     },
     "metadata": {},
     "output_type": "display_data"
    }
   ],
   "source": [
    "from setfit import SetFitModel\n",
    "\n",
    "model = SetFitModel.from_pretrained(f\"{huggingface_username}/{our_model_name}\")"
   ]
  },
  {
   "cell_type": "code",
   "execution_count": 11,
   "id": "ef05ab8f",
   "metadata": {},
   "outputs": [
    {
     "name": "stdout",
     "output_type": "stream",
     "text": [
      "Uploading Model https://www.kaggle.com/models/leo1212abc/automated-essay-scoring-setfit-finetuned/transformers/default ...\n",
      "Warning: Looks like you're using an outdated `kagglehub` version, please consider updating (latest version: 0.3.4)\n",
      "Starting upload for file ../src/models/automated-essay-scoring-setfit-finetuned/config_setfit.json\n",
      "Warning: Looks like you're using an outdated `kagglehub` version, please consider updating (latest version: 0.3.4)\n"
     ]
    },
    {
     "name": "stderr",
     "output_type": "stream",
     "text": [
      "Uploading: 100%|██████████| 53.0/53.0 [00:00<00:00, 129B/s]"
     ]
    },
    {
     "name": "stdout",
     "output_type": "stream",
     "text": [
      "Upload successful: ../src/models/automated-essay-scoring-setfit-finetuned/config_setfit.json (53B)\n",
      "Starting upload for file ../src/models/automated-essay-scoring-setfit-finetuned/tokenizer_config.json\n"
     ]
    },
    {
     "name": "stderr",
     "output_type": "stream",
     "text": [
      "\n"
     ]
    },
    {
     "name": "stdout",
     "output_type": "stream",
     "text": [
      "Warning: Looks like you're using an outdated `kagglehub` version, please consider updating (latest version: 0.3.4)\n"
     ]
    },
    {
     "name": "stderr",
     "output_type": "stream",
     "text": [
      "Uploading: 100%|██████████| 1.41k/1.41k [00:00<00:00, 3.94kB/s]"
     ]
    },
    {
     "name": "stdout",
     "output_type": "stream",
     "text": [
      "Upload successful: ../src/models/automated-essay-scoring-setfit-finetuned/tokenizer_config.json (1KB)\n",
      "Starting upload for file ../src/models/automated-essay-scoring-setfit-finetuned/tokenizer.json\n"
     ]
    },
    {
     "name": "stderr",
     "output_type": "stream",
     "text": [
      "\n"
     ]
    },
    {
     "name": "stdout",
     "output_type": "stream",
     "text": [
      "Warning: Looks like you're using an outdated `kagglehub` version, please consider updating (latest version: 0.3.4)\n"
     ]
    },
    {
     "name": "stderr",
     "output_type": "stream",
     "text": [
      "Uploading: 100%|██████████| 3.56M/3.56M [00:01<00:00, 2.72MB/s]"
     ]
    },
    {
     "name": "stdout",
     "output_type": "stream",
     "text": [
      "Upload successful: ../src/models/automated-essay-scoring-setfit-finetuned/tokenizer.json (3MB)\n",
      "Starting upload for file ../src/models/automated-essay-scoring-setfit-finetuned/vocab.json\n"
     ]
    },
    {
     "name": "stderr",
     "output_type": "stream",
     "text": [
      "\n"
     ]
    },
    {
     "name": "stdout",
     "output_type": "stream",
     "text": [
      "Warning: Looks like you're using an outdated `kagglehub` version, please consider updating (latest version: 0.3.4)\n"
     ]
    },
    {
     "name": "stderr",
     "output_type": "stream",
     "text": [
      "Uploading: 100%|██████████| 798k/798k [00:01<00:00, 796kB/s]"
     ]
    },
    {
     "name": "stdout",
     "output_type": "stream",
     "text": [
      "Upload successful: ../src/models/automated-essay-scoring-setfit-finetuned/vocab.json (780KB)\n",
      "Starting upload for file ../src/models/automated-essay-scoring-setfit-finetuned/README.md\n"
     ]
    },
    {
     "name": "stderr",
     "output_type": "stream",
     "text": [
      "\n"
     ]
    },
    {
     "name": "stdout",
     "output_type": "stream",
     "text": [
      "Warning: Looks like you're using an outdated `kagglehub` version, please consider updating (latest version: 0.3.4)\n"
     ]
    },
    {
     "name": "stderr",
     "output_type": "stream",
     "text": [
      "Uploading: 100%|██████████| 4.23k/4.23k [00:00<00:00, 11.1kB/s]"
     ]
    },
    {
     "name": "stdout",
     "output_type": "stream",
     "text": [
      "Upload successful: ../src/models/automated-essay-scoring-setfit-finetuned/README.md (4KB)\n",
      "Starting upload for file ../src/models/automated-essay-scoring-setfit-finetuned/config_sentence_transformers.json\n"
     ]
    },
    {
     "name": "stderr",
     "output_type": "stream",
     "text": [
      "\n"
     ]
    },
    {
     "name": "stdout",
     "output_type": "stream",
     "text": [
      "Warning: Looks like you're using an outdated `kagglehub` version, please consider updating (latest version: 0.3.4)\n"
     ]
    },
    {
     "name": "stderr",
     "output_type": "stream",
     "text": [
      "Uploading: 100%|██████████| 201/201 [00:00<00:00, 565B/s]"
     ]
    },
    {
     "name": "stdout",
     "output_type": "stream",
     "text": [
      "Upload successful: ../src/models/automated-essay-scoring-setfit-finetuned/config_sentence_transformers.json (201B)\n",
      "Starting upload for file ../src/models/automated-essay-scoring-setfit-finetuned/config.json\n"
     ]
    },
    {
     "name": "stderr",
     "output_type": "stream",
     "text": [
      "\n"
     ]
    },
    {
     "name": "stdout",
     "output_type": "stream",
     "text": [
      "Warning: Looks like you're using an outdated `kagglehub` version, please consider updating (latest version: 0.3.4)\n"
     ]
    },
    {
     "name": "stderr",
     "output_type": "stream",
     "text": [
      "Uploading: 100%|██████████| 923/923 [00:00<00:00, 2.55kB/s]"
     ]
    },
    {
     "name": "stdout",
     "output_type": "stream",
     "text": [
      "Upload successful: ../src/models/automated-essay-scoring-setfit-finetuned/config.json (923B)\n",
      "Starting upload for file ../src/models/automated-essay-scoring-setfit-finetuned/modules.json\n"
     ]
    },
    {
     "name": "stderr",
     "output_type": "stream",
     "text": [
      "\n"
     ]
    },
    {
     "name": "stdout",
     "output_type": "stream",
     "text": [
      "Warning: Looks like you're using an outdated `kagglehub` version, please consider updating (latest version: 0.3.4)\n"
     ]
    },
    {
     "name": "stderr",
     "output_type": "stream",
     "text": [
      "Uploading: 100%|██████████| 229/229 [00:00<00:00, 664B/s]"
     ]
    },
    {
     "name": "stdout",
     "output_type": "stream",
     "text": [
      "Upload successful: ../src/models/automated-essay-scoring-setfit-finetuned/modules.json (229B)\n",
      "Starting upload for file ../src/models/automated-essay-scoring-setfit-finetuned/special_tokens_map.json\n"
     ]
    },
    {
     "name": "stderr",
     "output_type": "stream",
     "text": [
      "\n"
     ]
    },
    {
     "name": "stdout",
     "output_type": "stream",
     "text": [
      "Warning: Looks like you're using an outdated `kagglehub` version, please consider updating (latest version: 0.3.4)\n"
     ]
    },
    {
     "name": "stderr",
     "output_type": "stream",
     "text": [
      "Uploading: 100%|██████████| 958/958 [00:00<00:00, 2.68kB/s]"
     ]
    },
    {
     "name": "stdout",
     "output_type": "stream",
     "text": [
      "Upload successful: ../src/models/automated-essay-scoring-setfit-finetuned/special_tokens_map.json (958B)\n",
      "Starting upload for file ../src/models/automated-essay-scoring-setfit-finetuned/merges.txt\n"
     ]
    },
    {
     "name": "stderr",
     "output_type": "stream",
     "text": [
      "\n"
     ]
    },
    {
     "name": "stdout",
     "output_type": "stream",
     "text": [
      "Warning: Looks like you're using an outdated `kagglehub` version, please consider updating (latest version: 0.3.4)\n"
     ]
    },
    {
     "name": "stderr",
     "output_type": "stream",
     "text": [
      "Uploading: 100%|██████████| 456k/456k [00:00<00:00, 505kB/s]"
     ]
    },
    {
     "name": "stdout",
     "output_type": "stream",
     "text": [
      "Upload successful: ../src/models/automated-essay-scoring-setfit-finetuned/merges.txt (446KB)\n",
      "Starting upload for file ../src/models/automated-essay-scoring-setfit-finetuned/model.safetensors\n"
     ]
    },
    {
     "name": "stderr",
     "output_type": "stream",
     "text": [
      "\n"
     ]
    },
    {
     "name": "stdout",
     "output_type": "stream",
     "text": [
      "Warning: Looks like you're using an outdated `kagglehub` version, please consider updating (latest version: 0.3.4)\n"
     ]
    },
    {
     "name": "stderr",
     "output_type": "stream",
     "text": [
      "Uploading: 100%|██████████| 595M/595M [00:14<00:00, 40.2MB/s] "
     ]
    },
    {
     "name": "stdout",
     "output_type": "stream",
     "text": [
      "Upload successful: ../src/models/automated-essay-scoring-setfit-finetuned/model.safetensors (567MB)\n",
      "Starting upload for file ../src/models/automated-essay-scoring-setfit-finetuned/sentence_bert_config.json\n"
     ]
    },
    {
     "name": "stderr",
     "output_type": "stream",
     "text": [
      "\n"
     ]
    },
    {
     "name": "stdout",
     "output_type": "stream",
     "text": [
      "Warning: Looks like you're using an outdated `kagglehub` version, please consider updating (latest version: 0.3.4)\n"
     ]
    },
    {
     "name": "stderr",
     "output_type": "stream",
     "text": [
      "Uploading: 100%|██████████| 54.0/54.0 [00:00<00:00, 153B/s]"
     ]
    },
    {
     "name": "stdout",
     "output_type": "stream",
     "text": [
      "Upload successful: ../src/models/automated-essay-scoring-setfit-finetuned/sentence_bert_config.json (54B)\n",
      "Starting upload for file ../src/models/automated-essay-scoring-setfit-finetuned/model_head.pkl\n"
     ]
    },
    {
     "name": "stderr",
     "output_type": "stream",
     "text": [
      "\n"
     ]
    },
    {
     "name": "stdout",
     "output_type": "stream",
     "text": [
      "Warning: Looks like you're using an outdated `kagglehub` version, please consider updating (latest version: 0.3.4)\n"
     ]
    },
    {
     "name": "stderr",
     "output_type": "stream",
     "text": [
      "Uploading: 100%|██████████| 37.8k/37.8k [00:00<00:00, 89.3kB/s]"
     ]
    },
    {
     "name": "stdout",
     "output_type": "stream",
     "text": [
      "Upload successful: ../src/models/automated-essay-scoring-setfit-finetuned/model_head.pkl (37KB)\n",
      "Starting upload for file ../src/models/automated-essay-scoring-setfit-finetuned/1_Pooling/config.json\n"
     ]
    },
    {
     "name": "stderr",
     "output_type": "stream",
     "text": [
      "\n"
     ]
    },
    {
     "name": "stdout",
     "output_type": "stream",
     "text": [
      "Warning: Looks like you're using an outdated `kagglehub` version, please consider updating (latest version: 0.3.4)\n"
     ]
    },
    {
     "name": "stderr",
     "output_type": "stream",
     "text": [
      "Uploading: 100%|██████████| 296/296 [00:00<00:00, 811B/s]"
     ]
    },
    {
     "name": "stdout",
     "output_type": "stream",
     "text": [
      "Upload successful: ../src/models/automated-essay-scoring-setfit-finetuned/1_Pooling/config.json (296B)\n"
     ]
    },
    {
     "name": "stderr",
     "output_type": "stream",
     "text": [
      "\n"
     ]
    },
    {
     "name": "stdout",
     "output_type": "stream",
     "text": [
      "Warning: Looks like you're using an outdated `kagglehub` version, please consider updating (latest version: 0.3.4)\n",
      "Your model instance has been created.\n",
      "Files are being processed...\n",
      "See at: https://www.kaggle.com/models/leo1212abc/automated-essay-scoring-setfit-finetuned/transformers/default\n"
     ]
    }
   ],
   "source": [
    "VARIATION_SLUG = 'default'\n",
    "\n",
    "LOCAL_MODEL_DIR = f\"../src/models/{our_model_name}\"\n",
    "model.save_pretrained(LOCAL_MODEL_DIR)\n",
    "\n",
    "# Compress the model directory (optional but helpful for large files)\n",
    "shutil.make_archive(our_model_name, 'zip', LOCAL_MODEL_DIR)\n",
    "\n",
    "kagglehub.model_upload(\n",
    "  handle = f\"leo1212abc/{our_model_name}/transformers/{VARIATION_SLUG}\",\n",
    "  local_model_dir = LOCAL_MODEL_DIR,\n",
    "  version_notes = f\"{num_folds}-fold; Metrics: {str(metrics)}\")"
   ]
  },
  {
   "cell_type": "code",
   "execution_count": null,
   "id": "c41e3b10",
   "metadata": {},
   "outputs": [
    {
     "name": "stdout",
     "output_type": "stream",
     "text": [
      "Loading dataset...\n",
      "Dataset loaded successfully!\n",
      "Training with the whole dataset.\n",
      "\n",
      "Total samples in the selected dataset: 17307\n",
      "Samples per category:\n",
      "  Score 1: 1252 samples\n",
      "  Score 2: 4723 samples\n",
      "  Score 3: 6280 samples\n",
      "  Score 4: 3926 samples\n",
      "  Score 5: 970 samples\n",
      "  Score 6: 156 samples\n"
     ]
    }
   ],
   "source": [
    "# from dotenv import load_dotenv\n",
    "# load_dotenv()\n",
    "# import os\n",
    "# import torch\n",
    "# from datasets import load_dataset, DatasetDict, Dataset\n",
    "# from transformers import EarlyStoppingCallback\n",
    "# from setfit import SetFitModel, Trainer, TrainingArguments\n",
    "# from sklearn.model_selection import KFold\n",
    "# from collections import defaultdict, Counter\n",
    "\n",
    "# # Toggle between full dataset and smaller subset for debugging\n",
    "# use_small_subset = True  # Set to False for full dataset\n",
    "\n",
    "# # Options: \"kaggle\", \"persuade\", or \"whole\"\n",
    "# dataset_option = \"whole\"  # Choose the dataset to train on\n",
    "\n",
    "# # Number of samples per score (category)\n",
    "# num_per_score = 10  # Adjust as needed for balanced dataset creation\n",
    "# num_folds = 5  # Number of folds for k-fold cross-validation\n",
    "\n",
    "# # Dataset and project configuration\n",
    "# dataset_path = \"HSLU-AICOMP-LearningAgencyLab/whole_kaggle_dataset\"\n",
    "\n",
    "# # Preprocessing function\n",
    "# def truncate_text(example):\n",
    "#     words = example[\"full_text\"].split()\n",
    "#     example[\"text\"] = \" \".join(words[:max_words]) if len(words) > max_words else example[\"full_text\"]\n",
    "#     return example\n",
    "\n",
    "# # Create a balanced subset with fixed samples per score\n",
    "# def create_balanced_subset(dataset, num_per_score, label_column=\"score\"):\n",
    "#     print(f\"Creating a balanced subset with {num_per_score} samples per score...\")\n",
    "#     category_samples = defaultdict(list)\n",
    "\n",
    "#     # Group samples by category\n",
    "#     for sample in dataset:\n",
    "#         category_samples[sample[label_column]].append(sample)\n",
    "\n",
    "#     # Select a fixed number of samples per category\n",
    "#     balanced_samples = []\n",
    "#     for category, samples in category_samples.items():\n",
    "#         selected_samples = samples[:num_per_score]  # Limit to num_per_score per category\n",
    "#         balanced_samples.extend(selected_samples)\n",
    "\n",
    "#     return Dataset.from_list(balanced_samples)\n",
    "\n",
    "# # Create k-fold splits with internal 80/20 distribution\n",
    "# def create_kfold_splits(dataset, k=5, test_size=0.2, seed=42):\n",
    "#     print(f\"Splitting dataset into {k} folds with 80/20 train-eval distribution...\")\n",
    "#     kf = KFold(n_splits=k, shuffle=True, random_state=seed)\n",
    "#     splits = []\n",
    "    \n",
    "#     for fold, (train_idx, eval_idx) in enumerate(kf.split(dataset)):\n",
    "#         # Split the current fold into train and eval sets\n",
    "#         train_data = dataset.select(train_idx)\n",
    "#         eval_data = dataset.select(eval_idx)\n",
    "\n",
    "#         # Further split train_data into 80/20 distribution using Hugging Face's method\n",
    "#         split = train_data.train_test_split(test_size=test_size, seed=seed)\n",
    "#         train_split, eval_split = split[\"train\"], split[\"test\"]\n",
    "\n",
    "#         splits.append(DatasetDict({\n",
    "#             \"train\": train_split,\n",
    "#             \"test\": eval_split,\n",
    "#         }))\n",
    "#         print(f\"Fold {fold + 1}: {len(train_split)} train samples, {len(eval_split)} eval samples.\")\n",
    "    \n",
    "#     return splits\n",
    "\n",
    "# # Load dataset from Hugging Face\n",
    "# print(\"Loading dataset...\")\n",
    "# full_dataset = load_dataset(dataset_path)\n",
    "# print(\"Dataset loaded successfully!\")\n",
    "\n",
    "# # Filter dataset based on user option\n",
    "# if dataset_option == \"kaggle\":\n",
    "#     print(\"Training with Kaggle-only dataset (not in Persuade corpus).\")\n",
    "#     selected_dataset = full_dataset.filter(lambda x: not x.get(\"in_persuade_corpus\", False))\n",
    "# elif dataset_option == \"persuade\":\n",
    "#     print(\"Training with Persuade-only dataset (in Persuade corpus).\")\n",
    "#     selected_dataset = full_dataset.filter(lambda x: x.get(\"in_persuade_corpus\", False))\n",
    "# else:  # whole dataset\n",
    "#     print(\"Training with the whole dataset.\")\n",
    "#     selected_dataset = full_dataset\n",
    "\n",
    "# # Print dataset statistics\n",
    "# total_samples = len(selected_dataset[\"train\"])\n",
    "# category_counts = Counter(selected_dataset[\"train\"][\"score\"])\n",
    "# print(f\"\\nTotal samples in the selected dataset: {total_samples}\")\n",
    "# print(f\"Samples per category:\")\n",
    "# for score, count in sorted(category_counts.items()):\n",
    "#     print(f\"  Score {score}: {count} samples\")\n",
    "\n",
    "\n"
   ]
  },
  {
   "cell_type": "code",
   "execution_count": null,
   "id": "6eecb147",
   "metadata": {},
   "outputs": [],
   "source": []
  }
 ],
 "metadata": {
  "kernelspec": {
   "display_name": "aicomp",
   "language": "python",
   "name": "python3"
  },
  "language_info": {
   "codemirror_mode": {
    "name": "ipython",
    "version": 3
   },
   "file_extension": ".py",
   "mimetype": "text/x-python",
   "name": "python",
   "nbconvert_exporter": "python",
   "pygments_lexer": "ipython3",
   "version": "3.11.9"
  }
 },
 "nbformat": 4,
 "nbformat_minor": 5
}
