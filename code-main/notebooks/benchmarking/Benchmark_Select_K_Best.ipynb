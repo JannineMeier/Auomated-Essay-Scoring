{
 "cells": [
  {
   "cell_type": "markdown",
   "metadata": {},
   "source": [
    "### Load Dataset / Columns of each Branch"
   ]
  },
  {
   "cell_type": "code",
   "execution_count": 1,
   "metadata": {},
   "outputs": [
    {
     "name": "stdout",
     "output_type": "stream",
     "text": [
      "Logging in to Hugging Face Hub...\n",
      "The token has not been saved to the git credentials helper. Pass `add_to_git_credential=True` in this function directly or `--add-to-git-credential` if using via `huggingface-cli` if you want to set the git credential as well.\n",
      "Token is valid (permission: write).\n",
      "Your token has been saved to /Users/bundeli/.cache/huggingface/token\n",
      "Login successful\n",
      "Login successful.\n",
      "\n",
      "Processing branch: f_classif_20 to display columns...\n"
     ]
    },
    {
     "data": {
      "application/vnd.jupyter.widget-view+json": {
       "model_id": "9398cd37b589420aaa431e0a97d12b49",
       "version_major": 2,
       "version_minor": 0
      },
      "text/plain": [
       "README.md:   0%|          | 0.00/1.65k [00:00<?, ?B/s]"
      ]
     },
     "metadata": {},
     "output_type": "display_data"
    },
    {
     "data": {
      "application/vnd.jupyter.widget-view+json": {
       "model_id": "f1ca06ff5e0444299e0fba96c15a047d",
       "version_major": 2,
       "version_minor": 0
      },
      "text/plain": [
       "train-00000-of-00001.parquet:   0%|          | 0.00/117M [00:00<?, ?B/s]"
      ]
     },
     "metadata": {},
     "output_type": "display_data"
    },
    {
     "data": {
      "application/vnd.jupyter.widget-view+json": {
       "model_id": "e08b20d1919e457eaea7757e634bea2e",
       "version_major": 2,
       "version_minor": 0
      },
      "text/plain": [
       "eval-00000-of-00001.parquet:   0%|          | 0.00/29.4M [00:00<?, ?B/s]"
      ]
     },
     "metadata": {},
     "output_type": "display_data"
    },
    {
     "data": {
      "application/vnd.jupyter.widget-view+json": {
       "model_id": "9193db75b28b485bb0d51bb1ea4d8b38",
       "version_major": 2,
       "version_minor": 0
      },
      "text/plain": [
       "test-00000-of-00001.parquet:   0%|          | 0.00/60.0k [00:00<?, ?B/s]"
      ]
     },
     "metadata": {},
     "output_type": "display_data"
    },
    {
     "data": {
      "application/vnd.jupyter.widget-view+json": {
       "model_id": "e29490e0919e42db8416422e02618065",
       "version_major": 2,
       "version_minor": 0
      },
      "text/plain": [
       "Generating train split:   0%|          | 0/13845 [00:00<?, ? examples/s]"
      ]
     },
     "metadata": {},
     "output_type": "display_data"
    },
    {
     "data": {
      "application/vnd.jupyter.widget-view+json": {
       "model_id": "63c054b2cf384748aa6267aa975b8bc4",
       "version_major": 2,
       "version_minor": 0
      },
      "text/plain": [
       "Generating eval split:   0%|          | 0/3462 [00:00<?, ? examples/s]"
      ]
     },
     "metadata": {},
     "output_type": "display_data"
    },
    {
     "data": {
      "application/vnd.jupyter.widget-view+json": {
       "model_id": "b0cf04de0d6a4788a2398751d337e5cd",
       "version_major": 2,
       "version_minor": 0
      },
      "text/plain": [
       "Generating test split:   0%|          | 0/3 [00:00<?, ? examples/s]"
      ]
     },
     "metadata": {},
     "output_type": "display_data"
    },
    {
     "name": "stdout",
     "output_type": "stream",
     "text": [
      "\n",
      "Columns in f_classif_20 dataset:\n",
      "['unique_mistakes', 'repeated_mistakes_count', 'max_repeated_mistake', 'word_count', 'flesch_reading_ease', 'sentence_count', 'pos_noun_count', 'pos_verb_count', 'pos_adj_count', 'pos_adv_count', 'spelling_mistake_count', 'error_density', 'keyword_coverage', 'unique_word_proportion', 'long_word_proportion', 'unique_visual_word_proportion', 'average_imagery_score', 'type_token_ratio', 'lexical_diversity', 'vocabulary_maturity', 'tfidf_keywords_vector', 'lda_topic_vector', 'longformer_sentence_embedding', 'essay_id', 'full_text', 'score']\n",
      "\n",
      "Processing branch: mutual_20 to display columns...\n"
     ]
    },
    {
     "data": {
      "application/vnd.jupyter.widget-view+json": {
       "model_id": "f7d6401a365643edbbc16bb05ecf398a",
       "version_major": 2,
       "version_minor": 0
      },
      "text/plain": [
       "README.md:   0%|          | 0.00/1.66k [00:00<?, ?B/s]"
      ]
     },
     "metadata": {},
     "output_type": "display_data"
    },
    {
     "data": {
      "application/vnd.jupyter.widget-view+json": {
       "model_id": "10d6488b0d974d739113a0928e2b7b81",
       "version_major": 2,
       "version_minor": 0
      },
      "text/plain": [
       "train-00000-of-00001.parquet:   0%|          | 0.00/117M [00:00<?, ?B/s]"
      ]
     },
     "metadata": {},
     "output_type": "display_data"
    },
    {
     "data": {
      "application/vnd.jupyter.widget-view+json": {
       "model_id": "43bd5873f86b41e699a97e2777c94ba0",
       "version_major": 2,
       "version_minor": 0
      },
      "text/plain": [
       "eval-00000-of-00001.parquet:   0%|          | 0.00/29.4M [00:00<?, ?B/s]"
      ]
     },
     "metadata": {},
     "output_type": "display_data"
    },
    {
     "data": {
      "application/vnd.jupyter.widget-view+json": {
       "model_id": "473a9f342cd04c32975298a56d5c5a81",
       "version_major": 2,
       "version_minor": 0
      },
      "text/plain": [
       "test-00000-of-00001.parquet:   0%|          | 0.00/60.0k [00:00<?, ?B/s]"
      ]
     },
     "metadata": {},
     "output_type": "display_data"
    },
    {
     "data": {
      "application/vnd.jupyter.widget-view+json": {
       "model_id": "a2f3f06a8fd0499c9e0556904e4b127a",
       "version_major": 2,
       "version_minor": 0
      },
      "text/plain": [
       "Generating train split:   0%|          | 0/13845 [00:00<?, ? examples/s]"
      ]
     },
     "metadata": {},
     "output_type": "display_data"
    },
    {
     "data": {
      "application/vnd.jupyter.widget-view+json": {
       "model_id": "45164ff8eefe4c6294d1d56627fd06f9",
       "version_major": 2,
       "version_minor": 0
      },
      "text/plain": [
       "Generating eval split:   0%|          | 0/3462 [00:00<?, ? examples/s]"
      ]
     },
     "metadata": {},
     "output_type": "display_data"
    },
    {
     "data": {
      "application/vnd.jupyter.widget-view+json": {
       "model_id": "83828bac4e384f24882fd5219a1ff9d3",
       "version_major": 2,
       "version_minor": 0
      },
      "text/plain": [
       "Generating test split:   0%|          | 0/3 [00:00<?, ? examples/s]"
      ]
     },
     "metadata": {},
     "output_type": "display_data"
    },
    {
     "name": "stdout",
     "output_type": "stream",
     "text": [
      "\n",
      "Columns in mutual_20 dataset:\n",
      "['word_count', 'flesch_reading_ease', 'sentence_count', 'average_sentence_length', 'pos_noun_count', 'pos_verb_count', 'pos_adj_count', 'pos_adv_count', 'syntactic_complexity', 'spelling_mistake_count', 'error_density', 'keyword_coverage', 'pronoun_usage', 'unique_word_proportion', 'long_word_proportion', 'imagery_word_proportion', 'visual_word_proportion', 'unique_visual_word_proportion', 'average_imagery_score', 'type_token_ratio', 'tfidf_keywords_vector', 'lda_topic_vector', 'longformer_sentence_embedding', 'essay_id', 'full_text', 'score']\n"
     ]
    }
   ],
   "source": [
    "import numpy as np\n",
    "import pandas as pd\n",
    "from datasets import load_dataset\n",
    "from sklearn.model_selection import train_test_split\n",
    "from sklearn.neighbors import KNeighborsRegressor\n",
    "from sklearn.metrics import mean_squared_error, cohen_kappa_score\n",
    "import os\n",
    "from dotenv import load_dotenv\n",
    "from datasets import load_dataset\n",
    "from sklearn.model_selection import train_test_split\n",
    "from sklearn.neighbors import KNeighborsRegressor\n",
    "from sklearn.metrics import mean_squared_error\n",
    "import numpy as np\n",
    "\n",
    "# Load environment variables\n",
    "load_dotenv()\n",
    "\n",
    "# Hugging Face token login\n",
    "print(\"Logging in to Hugging Face Hub...\")\n",
    "from huggingface_hub import login\n",
    "login(token=os.getenv('HUGGINGFACE_TOKEN'))\n",
    "print(\"Login successful.\")\n",
    "\n",
    "# Print all columns in f_classif_20\n",
    "print(\"\\nProcessing branch: f_classif_20 to display columns...\")\n",
    "repo_id = \"HSLU-AICOMP-LearningAgencyLab/learning-agency-lab-automated-essay-scoring-2_V2_SelectKBest\"\n",
    "dataset = load_dataset(repo_id, revision='f_classif_20')\n",
    "train_data = dataset['train']\n",
    "\n",
    "# Display all columns in f_classif_20\n",
    "print(\"\\nColumns in f_classif_20 dataset:\")\n",
    "print(train_data.column_names)\n",
    "\n",
    "# Print all columns in mutual_20\n",
    "print(\"\\nProcessing branch: mutual_20 to display columns...\")\n",
    "repo_id = \"HSLU-AICOMP-LearningAgencyLab/learning-agency-lab-automated-essay-scoring-2_V2_SelectKBest\"\n",
    "dataset = load_dataset(repo_id, revision='mutual_20')\n",
    "train_data = dataset['train']\n",
    "\n",
    "# Display all columns in mutual_20\n",
    "print(\"\\nColumns in mutual_20 dataset:\")\n",
    "print(train_data.column_names)"
   ]
  },
  {
   "cell_type": "markdown",
   "metadata": {},
   "source": [
    "### KNN with all full branches"
   ]
  },
  {
   "cell_type": "code",
   "execution_count": null,
   "metadata": {},
   "outputs": [],
   "source": [
    "# Helper function to flatten nested features\n",
    "def flatten_features(df, columns_to_flatten):\n",
    "    for col in columns_to_flatten:\n",
    "        if col in df.columns:\n",
    "            expanded = pd.DataFrame(df[col].tolist(), index=df.index).add_prefix(f\"{col}_\")\n",
    "            df = pd.concat([df.drop(columns=[col]), expanded], axis=1)\n",
    "    return df\n",
    "\n",
    "# Initialize variables\n",
    "branches = ['mutual_5', 'mutual_10', 'mutual_15', 'mutual_20', 'f_classif_5', 'f_classif_10', 'f_classif_15', 'f_classif_20']\n",
    "repo_id = \"HSLU-AICOMP-LearningAgencyLab/learning-agency-lab-automated-essay-scoring-2_V2_SelectKBest\"\n",
    "results = {}\n",
    "\n",
    "# Loop through branches\n",
    "for branch in branches:\n",
    "    print(f\"\\nProcessing branch: {branch}...\")\n",
    "    \n",
    "    # Load dataset for the branch\n",
    "    dataset = load_dataset(repo_id, revision=branch)\n",
    "    train_data = dataset['train']\n",
    "    eval_data = dataset['eval']\n",
    "    \n",
    "    # Convert to DataFrame for preprocessing\n",
    "    train_df = train_data.to_pandas()\n",
    "    eval_df = eval_data.to_pandas()\n",
    "    \n",
    "    # List of columns to flatten\n",
    "    columns_to_flatten = ['tfidf_keywords_vector', 'lda_topic_vector', 'longformer_sentence_embedding']\n",
    "    \n",
    "    # Flatten features\n",
    "    train_df = flatten_features(train_df, columns_to_flatten)\n",
    "    eval_df = flatten_features(eval_df, columns_to_flatten)\n",
    "    \n",
    "    # Extract features and target\n",
    "    feature_columns = [col for col in train_df.columns if col not in ['essay_id', 'full_text', 'score']]\n",
    "    X_train = train_df[feature_columns].to_numpy()\n",
    "    y_train = train_df['score'].to_numpy()\n",
    "    \n",
    "    X_eval = eval_df[feature_columns].to_numpy()\n",
    "    y_eval = eval_df['score'].to_numpy()\n",
    "    \n",
    "    # Train/test split\n",
    "    X_train_split, X_test_split, y_train_split, y_test_split = train_test_split(X_train, y_train, test_size=0.2, random_state=42)\n",
    "    \n",
    "    # Initialize and train KNN model\n",
    "    knn = KNeighborsRegressor(n_neighbors=5)\n",
    "    knn.fit(X_train_split, y_train_split)\n",
    "    \n",
    "    # Evaluate model using MSE and QWK\n",
    "    y_pred = knn.predict(X_eval)\n",
    "    \n",
    "    # Ensure QWK receives integer scores\n",
    "    y_pred_rounded = np.round(y_pred).astype(int)  # Round predictions to nearest integer\n",
    "    y_eval_rounded = y_eval.astype(int)           # Ensure evaluation scores are integers\n",
    "    \n",
    "    mse = mean_squared_error(y_eval, y_pred)\n",
    "    qwk = cohen_kappa_score(y_eval_rounded, y_pred_rounded, weights='quadratic')\n",
    "    \n",
    "    results[branch] = {'MSE': mse, 'QWK': qwk}\n",
    "    \n",
    "    print(f\"Branch: {branch} | MSE: {mse:.4f} | QWK: {qwk:.4f}\")\n",
    "\n",
    "# Compare results\n",
    "print(\"\\nFinal results:\")\n",
    "for branch, metrics in results.items():\n",
    "    print(f\"{branch}: MSE = {metrics['MSE']:.4f}, QWK = {metrics['QWK']:.4f}\")\n",
    "\n",
    "# Find the best branch based on QWK\n",
    "best_branch = max(results, key=lambda b: results[b]['QWK'])  # Higher QWK is better\n",
    "print(f\"\\nThe best performing branch is: {best_branch} with QWK: {results[best_branch]['QWK']:.4f}\")\n"
   ]
  },
  {
   "cell_type": "markdown",
   "metadata": {},
   "source": [
    "### Testing different Combinations"
   ]
  },
  {
   "cell_type": "code",
   "execution_count": 5,
   "metadata": {},
   "outputs": [],
   "source": [
    "# Helper function to flatten nested features\n",
    "def flatten_features(df, columns_to_flatten):\n",
    "    for col in columns_to_flatten:\n",
    "        if col in df.columns:\n",
    "            expanded = pd.DataFrame(df[col].tolist(), index=df.index).add_prefix(f\"{col}_\")\n",
    "            df = pd.concat([df.drop(columns=[col]), expanded], axis=1)\n",
    "    return df"
   ]
  },
  {
   "cell_type": "code",
   "execution_count": 2,
   "metadata": {},
   "outputs": [
    {
     "name": "stdout",
     "output_type": "stream",
     "text": [
      "\n",
      "Processing branch: mutual_15...\n",
      "\n",
      "Evaluating subset: first_3...\n",
      "Subset: first_3 | MSE: 0.5896 | QWK: 0.6300\n",
      "\n",
      "Evaluating subset: 5th_to_6th...\n",
      "Subset: 5th_to_6th | MSE: 0.6997 | QWK: 0.5535\n",
      "\n",
      "Evaluating subset: first_half...\n",
      "Subset: first_half | MSE: 0.5892 | QWK: 0.6356\n",
      "\n",
      "Evaluating subset: second_half...\n",
      "Subset: second_half | MSE: 0.6586 | QWK: 0.5587\n",
      "\n",
      "Evaluating subset: middle_6...\n",
      "Subset: middle_6 | MSE: 0.8568 | QWK: 0.3968\n",
      "\n",
      "Evaluating subset: every_2nd...\n",
      "Subset: every_2nd | MSE: 0.5832 | QWK: 0.6292\n",
      "\n",
      "Evaluating subset: first_and_last_3...\n",
      "Subset: first_and_last_3 | MSE: 0.5906 | QWK: 0.6276\n",
      "\n",
      "Evaluating subset: all_features...\n",
      "Subset: all_features | MSE: 0.5835 | QWK: 0.6396\n",
      "\n",
      "Final results:\n",
      "first_3: MSE = 0.5896, QWK = 0.6300\n",
      "5th_to_6th: MSE = 0.6997, QWK = 0.5535\n",
      "first_half: MSE = 0.5892, QWK = 0.6356\n",
      "second_half: MSE = 0.6586, QWK = 0.5587\n",
      "middle_6: MSE = 0.8568, QWK = 0.3968\n",
      "every_2nd: MSE = 0.5832, QWK = 0.6292\n",
      "first_and_last_3: MSE = 0.5906, QWK = 0.6276\n",
      "all_features: MSE = 0.5835, QWK = 0.6396\n",
      "\n",
      "The best performing subset is: all_features with QWK: 0.6396\n"
     ]
    }
   ],
   "source": [
    "import numpy as np\n",
    "import pandas as pd\n",
    "from datasets import load_dataset\n",
    "from sklearn.model_selection import train_test_split\n",
    "from sklearn.neighbors import KNeighborsRegressor\n",
    "from sklearn.metrics import mean_squared_error, cohen_kappa_score\n",
    "\n",
    "# Helper function to flatten nested features\n",
    "def flatten_features(df, columns_to_flatten):\n",
    "    for col in columns_to_flatten:\n",
    "        if col in df.columns:\n",
    "            expanded = pd.DataFrame(df[col].tolist(), index=df.index).add_prefix(f\"{col}_\")\n",
    "            df = pd.concat([df.drop(columns=[col]), expanded], axis=1)\n",
    "    return df\n",
    "\n",
    "# Define various feature subsets\n",
    "feature_subsets = {\n",
    "    'first_3': slice(0, 3),           # First 3 features\n",
    "    '5th_to_6th': slice(4, 6),        # 5th to 6th features\n",
    "    'first_half': slice(0, 9),        # First half of the features\n",
    "    'second_half': slice(9, 18),      # Second half of the features\n",
    "    'middle_6': slice(6, 12),         # Middle 6 features\n",
    "    'every_2nd': slice(0, 18, 2),     # Every second feature\n",
    "    'first_and_last_3': slice(0, 3),  # First 3 and last 3 combined (handled later)\n",
    "    'all_features': slice(None),      # All features\n",
    "}\n",
    "\n",
    "# Branch to evaluate\n",
    "branch = 'mutual_15'\n",
    "repo_id = \"HSLU-AICOMP-LearningAgencyLab/learning-agency-lab-automated-essay-scoring-2_V2_SelectKBest\"\n",
    "\n",
    "# Results dictionary\n",
    "results = {}\n",
    "\n",
    "# Load dataset for the best branch\n",
    "print(f\"\\nProcessing branch: {branch}...\")\n",
    "dataset = load_dataset(repo_id, revision=branch)\n",
    "train_data = dataset['train']\n",
    "eval_data = dataset['eval']\n",
    "\n",
    "# Convert to DataFrame for preprocessing\n",
    "train_df = train_data.to_pandas()\n",
    "eval_df = eval_data.to_pandas()\n",
    "\n",
    "# List of columns to flatten\n",
    "columns_to_flatten = ['tfidf_keywords_vector', 'lda_topic_vector', 'longformer_sentence_embedding']\n",
    "\n",
    "# Flatten features\n",
    "train_df = flatten_features(train_df, columns_to_flatten)\n",
    "eval_df = flatten_features(eval_df, columns_to_flatten)\n",
    "\n",
    "# Extract all features and target\n",
    "all_features = [col for col in train_df.columns if col not in ['essay_id', 'full_text', 'score']]\n",
    "X_train_full = train_df[all_features].to_numpy()\n",
    "y_train = train_df['score'].to_numpy()\n",
    "\n",
    "X_eval_full = eval_df[all_features].to_numpy()\n",
    "y_eval = eval_df['score'].to_numpy()\n",
    "\n",
    "# Test different feature subsets\n",
    "for subset_name, feature_slice in feature_subsets.items():\n",
    "    print(f\"\\nEvaluating subset: {subset_name}...\")\n",
    "    \n",
    "    # Handle special case for 'first_and_last_3'\n",
    "    if subset_name == 'first_and_last_3':\n",
    "        selected_columns = np.concatenate([np.arange(0, 3), np.arange(15, 18)])\n",
    "        X_train = X_train_full[:, selected_columns]\n",
    "        X_eval = X_eval_full[:, selected_columns]\n",
    "    else:\n",
    "        # Select subset of features\n",
    "        X_train = X_train_full[:, feature_slice]\n",
    "        X_eval = X_eval_full[:, feature_slice]\n",
    "    \n",
    "    # Train/test split\n",
    "    X_train_split, X_test_split, y_train_split, y_test_split = train_test_split(X_train, y_train, test_size=0.2, random_state=42)\n",
    "    \n",
    "    # Initialize and train KNN model\n",
    "    knn = KNeighborsRegressor(n_neighbors=5)\n",
    "    knn.fit(X_train_split, y_train_split)\n",
    "    \n",
    "    # Evaluate model using MSE and QWK\n",
    "    y_pred = knn.predict(X_eval)\n",
    "    \n",
    "    # Ensure QWK receives integer scores\n",
    "    y_pred_rounded = np.round(y_pred).astype(int)\n",
    "    y_eval_rounded = y_eval.astype(int)\n",
    "    \n",
    "    mse = mean_squared_error(y_eval, y_pred)\n",
    "    qwk = cohen_kappa_score(y_eval_rounded, y_pred_rounded, weights='quadratic')\n",
    "    \n",
    "    results[subset_name] = {'MSE': mse, 'QWK': qwk}\n",
    "    \n",
    "    print(f\"Subset: {subset_name} | MSE: {mse:.4f} | QWK: {qwk:.4f}\")\n",
    "\n",
    "# Compare results\n",
    "print(\"\\nFinal results:\")\n",
    "for subset_name, metrics in results.items():\n",
    "    print(f\"{subset_name}: MSE = {metrics['MSE']:.4f}, QWK = {metrics['QWK']:.4f}\")\n",
    "\n",
    "# Find the best feature subset based on QWK\n",
    "best_subset = max(results, key=lambda s: results[s]['QWK'])\n",
    "print(f\"\\nThe best performing subset is: {best_subset} with QWK: {results[best_subset]['QWK']:.4f}\")\n"
   ]
  },
  {
   "cell_type": "markdown",
   "metadata": {},
   "source": [
    "To systematically test and evaluate all possible combinations of features for the f_classif_20 branch, I'll generate all combinations of the features and calculate the Quadratic Weighted Kappa (QWK) for each subset."
   ]
  },
  {
   "cell_type": "code",
   "execution_count": null,
   "metadata": {},
   "outputs": [],
   "source": [
    "import itertools\n",
    "import numpy as np\n",
    "import pandas as pd\n",
    "from datasets import load_dataset\n",
    "from sklearn.model_selection import train_test_split\n",
    "from sklearn.neighbors import KNeighborsRegressor\n",
    "from sklearn.metrics import mean_squared_error, cohen_kappa_score\n",
    "\n",
    "# Helper function to flatten nested features\n",
    "def flatten_features(df, columns_to_flatten):\n",
    "    for col in columns_to_flatten:\n",
    "        if col in df.columns:\n",
    "            expanded = pd.DataFrame(df[col].tolist(), index=df.index).add_prefix(f\"{col}_\")\n",
    "            df = pd.concat([df.drop(columns=[col]), expanded], axis=1)\n",
    "    return df\n",
    "\n",
    "# Load f_classif_20 dataset\n",
    "print(\"\\nProcessing branch: f_classif_20...\")\n",
    "repo_id = \"HSLU-AICOMP-LearningAgencyLab/learning-agency-lab-automated-essay-scoring-2_V2_SelectKBest\"\n",
    "dataset = load_dataset(repo_id, revision=\"f_classif_20\")\n",
    "train_data = dataset['train']\n",
    "eval_data = dataset['eval']\n",
    "\n",
    "# Convert to DataFrame for preprocessing\n",
    "train_df = train_data.to_pandas()\n",
    "eval_df = eval_data.to_pandas()\n",
    "\n",
    "# List of columns to flatten\n",
    "columns_to_flatten = ['tfidf_keywords_vector', 'lda_topic_vector', 'longformer_sentence_embedding']\n",
    "\n",
    "# Flatten features\n",
    "train_df = flatten_features(train_df, columns_to_flatten)\n",
    "eval_df = flatten_features(eval_df, columns_to_flatten)\n",
    "\n",
    "# Extract feature names\n",
    "all_features = [col for col in train_df.columns if col not in ['essay_id', 'full_text', 'score']]\n",
    "y_train = train_df['score'].to_numpy()\n",
    "y_eval = eval_df['score'].to_numpy()\n",
    "\n",
    "# Results dictionary\n",
    "results = {}\n",
    "\n",
    "# Calculate total combinations\n",
    "total_combinations = sum(len(list(itertools.combinations(all_features, r))) for r in range(15, len(all_features) + 1))\n",
    "processed_combinations = 0\n",
    "last_printed_percent = 0\n",
    "\n",
    "# Test subsets of size 15 to the maximum number of features\n",
    "for r in range(15, len(all_features) + 1):  # r: size of the feature subset\n",
    "    for subset in itertools.combinations(all_features, r):\n",
    "        processed_combinations += 1\n",
    "        progress = (processed_combinations / total_combinations) * 100\n",
    "        \n",
    "        # Print whole percentage increments only\n",
    "        if int(progress) > last_printed_percent:\n",
    "            last_printed_percent = int(progress)\n",
    "            print(f\"\\n{last_printed_percent}% done\")\n",
    "        \n",
    "        subset_name = \", \".join(subset)\n",
    "        \n",
    "        # Select features for the subset\n",
    "        X_train = train_df[list(subset)].to_numpy()\n",
    "        X_eval = eval_df[list(subset)].to_numpy()\n",
    "        \n",
    "        # Train/test split\n",
    "        X_train_split, X_test_split, y_train_split, y_test_split = train_test_split(\n",
    "            X_train, y_train, test_size=0.2, random_state=42\n",
    "        )\n",
    "        \n",
    "        # Initialize and train KNN model\n",
    "        knn = KNeighborsRegressor(n_neighbors=5)\n",
    "        knn.fit(X_train_split, y_train_split)\n",
    "        \n",
    "        # Evaluate model using QWK\n",
    "        y_pred = knn.predict(X_eval)\n",
    "        \n",
    "        # Ensure QWK receives integer scores\n",
    "        y_pred_rounded = np.round(y_pred).astype(int)\n",
    "        y_eval_rounded = y_eval.astype(int)\n",
    "        \n",
    "        mse = mean_squared_error(y_eval, y_pred)\n",
    "        qwk = cohen_kappa_score(y_eval_rounded, y_pred_rounded, weights=\"quadratic\")\n",
    "        \n",
    "        results[subset_name] = {\"MSE\": mse, \"QWK\": qwk}\n",
    "\n",
    "# Display final results\n",
    "print(\"\\nFinal results:\")\n",
    "sorted_results = sorted(results.items(), key=lambda x: x[1][\"QWK\"], reverse=True)\n",
    "\n",
    "# Top 5 rankings\n",
    "print(\"\\nTop 5 Best Subsets:\")\n",
    "for rank, (subset_name, metrics) in enumerate(sorted_results[:5], start=1):\n",
    "    print(f\"{rank}. {subset_name}: MSE = {metrics['MSE']:.4f}, QWK = {metrics['QWK']:.4f}\")\n",
    "\n",
    "# Best subset\n",
    "best_subset, best_metrics = sorted_results[0]\n",
    "print(f\"\\nThe best performing subset is: {best_subset} with QWK: {best_metrics['QWK']:.4f}\")\n"
   ]
  },
  {
   "cell_type": "code",
   "execution_count": 2,
   "metadata": {},
   "outputs": [
    {
     "data": {
      "application/vnd.jupyter.widget-view+json": {
       "model_id": "906d1e4783a34be9800ba98834743881",
       "version_major": 2,
       "version_minor": 0
      },
      "text/plain": [
       "README.md:   0%|          | 0.00/1.41k [00:00<?, ?B/s]"
      ]
     },
     "metadata": {},
     "output_type": "display_data"
    },
    {
     "data": {
      "application/vnd.jupyter.widget-view+json": {
       "model_id": "5f15a8b27c654ea0b3d62466380f519c",
       "version_major": 2,
       "version_minor": 0
      },
      "text/plain": [
       "train-00000-of-00001.parquet:   0%|          | 0.00/117M [00:00<?, ?B/s]"
      ]
     },
     "metadata": {},
     "output_type": "display_data"
    },
    {
     "data": {
      "application/vnd.jupyter.widget-view+json": {
       "model_id": "fd9c5df48dd746b8a21342818a1e0d57",
       "version_major": 2,
       "version_minor": 0
      },
      "text/plain": [
       "eval-00000-of-00001.parquet:   0%|          | 0.00/29.3M [00:00<?, ?B/s]"
      ]
     },
     "metadata": {},
     "output_type": "display_data"
    },
    {
     "data": {
      "application/vnd.jupyter.widget-view+json": {
       "model_id": "11149e8ae20944639eb3b84b56056759",
       "version_major": 2,
       "version_minor": 0
      },
      "text/plain": [
       "test-00000-of-00001.parquet:   0%|          | 0.00/57.0k [00:00<?, ?B/s]"
      ]
     },
     "metadata": {},
     "output_type": "display_data"
    },
    {
     "data": {
      "application/vnd.jupyter.widget-view+json": {
       "model_id": "e870dfaeee194bf0b9b4182de84ecacb",
       "version_major": 2,
       "version_minor": 0
      },
      "text/plain": [
       "Generating train split:   0%|          | 0/13845 [00:00<?, ? examples/s]"
      ]
     },
     "metadata": {},
     "output_type": "display_data"
    },
    {
     "data": {
      "application/vnd.jupyter.widget-view+json": {
       "model_id": "dfd5510c3f424f9ca430e98b288b68fd",
       "version_major": 2,
       "version_minor": 0
      },
      "text/plain": [
       "Generating eval split:   0%|          | 0/3462 [00:00<?, ? examples/s]"
      ]
     },
     "metadata": {},
     "output_type": "display_data"
    },
    {
     "data": {
      "application/vnd.jupyter.widget-view+json": {
       "model_id": "446810f0327445adaf329b359d9ca5da",
       "version_major": 2,
       "version_minor": 0
      },
      "text/plain": [
       "Generating test split:   0%|          | 0/3 [00:00<?, ? examples/s]"
      ]
     },
     "metadata": {},
     "output_type": "display_data"
    }
   ],
   "source": [
    "dataset = load_dataset(repo_id, revision=\"mutual_15\")\n",
    "train_data = dataset['train']\n",
    "eval_data = dataset['eval']"
   ]
  },
  {
   "cell_type": "code",
   "execution_count": 6,
   "metadata": {},
   "outputs": [],
   "source": [
    "# Convert to DataFrame for preprocessing\n",
    "train_df = train_data.to_pandas()\n",
    "eval_df = eval_data.to_pandas()\n",
    "\n",
    "# List of columns to flatten\n",
    "columns_to_flatten = ['tfidf_keywords_vector', 'lda_topic_vector', 'longformer_sentence_embedding']\n",
    "\n",
    "# Flatten features\n",
    "train_df = flatten_features(train_df, columns_to_flatten)\n",
    "eval_df = flatten_features(eval_df, columns_to_flatten)\n",
    "\n",
    "# Extract all features and target\n",
    "all_features = [col for col in train_df.columns if col not in ['essay_id', 'full_text', 'score']]\n",
    "X_train_full = train_df[all_features].to_numpy()\n",
    "y_train = train_df['score'].to_numpy()\n",
    "\n",
    "X_eval_full = eval_df[all_features].to_numpy()\n",
    "y_eval = eval_df['score'].to_numpy()\n"
   ]
  },
  {
   "cell_type": "code",
   "execution_count": 13,
   "metadata": {},
   "outputs": [
    {
     "data": {
      "text/plain": [
       "(3462, 1104)"
      ]
     },
     "execution_count": 13,
     "metadata": {},
     "output_type": "execute_result"
    }
   ],
   "source": [
    "X_eval_full.shape"
   ]
  },
  {
   "cell_type": "code",
   "execution_count": 10,
   "metadata": {},
   "outputs": [],
   "source": [
    "import wandb\n",
    "from sklearn.neighbors import KNeighborsClassifier\n",
    "from sklearn.metrics import cohen_kappa_score\n",
    "import numpy as np\n",
    "from sklearn.preprocessing import StandardScaler, MinMaxScaler, RobustScaler\n",
    "\n",
    "\n",
    "# Define the KNeighbors model\n",
    "model = KNeighborsClassifier(\n",
    "    n_neighbors=18,\n",
    "    weights='uniform'\n",
    ")\n",
    "\n",
    "# Train the model\n",
    "model.fit(X_train_full, y_train)\n",
    "\n",
    "# Evaluate on the eval set\n",
    "predictions = model.predict(X_eval_full)\n",
    "qwk = cohen_kappa_score(y_eval, predictions, weights='quadratic')\n",
    "\n",
    "\n",
    "\n"
   ]
  },
  {
   "cell_type": "code",
   "execution_count": 11,
   "metadata": {},
   "outputs": [
    {
     "data": {
      "text/plain": [
       "0.6597722418905217"
      ]
     },
     "execution_count": 11,
     "metadata": {},
     "output_type": "execute_result"
    }
   ],
   "source": [
    "qwk"
   ]
  },
  {
   "cell_type": "code",
   "execution_count": 12,
   "metadata": {},
   "outputs": [
    {
     "name": "stdout",
     "output_type": "stream",
     "text": [
      "Uploading Model https://www.kaggle.com/models/jannikbundeli/automated-essay-scoring-knn-selectkbest/scikitLearn/default ...\n",
      "Model 'automated-essay-scoring-knn-selectkbest' does not exist or access is forbidden for user 'jannikbundeli'. Creating or handling Model...\n",
      "Warning: Looks like you're using an outdated `kagglehub` version, please consider updating (latest version: 0.3.4)\n",
      "Model 'automated-essay-scoring-knn-selectkbest' Created.\n",
      "Starting upload for file ../src/models/automated-essay-scoring-knn-selectkbest/model.joblib\n",
      "Warning: Looks like you're using an outdated `kagglehub` version, please consider updating (latest version: 0.3.4)\n"
     ]
    },
    {
     "name": "stderr",
     "output_type": "stream",
     "text": [
      "Uploading: 100%|██████████| 122M/122M [00:04<00:00, 28.2MB/s] "
     ]
    },
    {
     "name": "stdout",
     "output_type": "stream",
     "text": [
      "Upload successful: ../src/models/automated-essay-scoring-knn-selectkbest/model.joblib (117MB)\n"
     ]
    },
    {
     "name": "stderr",
     "output_type": "stream",
     "text": [
      "\n"
     ]
    },
    {
     "name": "stdout",
     "output_type": "stream",
     "text": [
      "Warning: Looks like you're using an outdated `kagglehub` version, please consider updating (latest version: 0.3.4)\n",
      "Your model instance has been created.\n",
      "Files are being processed...\n",
      "See at: https://www.kaggle.com/models/jannikbundeli/automated-essay-scoring-knn-selectkbest/scikitLearn/default\n"
     ]
    }
   ],
   "source": [
    "import kagglehub\n",
    "import shutil\n",
    "import joblib\n",
    "\n",
    "our_model_name = \"automated-essay-scoring-knn-selectkbest\"\n",
    "VARIATION_SLUG = 'default'\n",
    "LOCAL_MODEL_DIR = f\"../src/models/{our_model_name}\"\n",
    "best_model_path = f\"{LOCAL_MODEL_DIR}/model.joblib\"\n",
    "\n",
    "if os.path.exists(LOCAL_MODEL_DIR):\n",
    "    if os.path.isfile(LOCAL_MODEL_DIR):\n",
    "        os.remove(LOCAL_MODEL_DIR)  \n",
    "    else:\n",
    "        shutil.rmtree(LOCAL_MODEL_DIR)  \n",
    "os.makedirs(LOCAL_MODEL_DIR, exist_ok=True)\n",
    "\n",
    "# Save the best model using joblib\n",
    "joblib.dump(model, best_model_path)\n",
    "\n",
    "# Compress the model directory (optional but helpful for large files)\n",
    "shutil.make_archive(our_model_name, 'zip', LOCAL_MODEL_DIR)\n",
    "\n",
    "# Upload the model to Kaggle using kagglehub\n",
    "kagglehub.model_upload(\n",
    "    handle=f\"jannikbundeli/{our_model_name}/scikitLearn/{VARIATION_SLUG}\",\n",
    "    local_model_dir=LOCAL_MODEL_DIR,\n",
    "    version_notes=f\"QWK: {str(qwk)}\"\n",
    ")"
   ]
  },
  {
   "cell_type": "code",
   "execution_count": 15,
   "metadata": {},
   "outputs": [
    {
     "data": {
      "image/png": "[encoded data removed]",
      "text/plain": [
       "<Figure size 1000x600 with 1 Axes>"
      ]
     },
     "metadata": {},
     "output_type": "display_data"
    }
   ],
   "source": [
    "import matplotlib.pyplot as plt\n",
    "import numpy as np\n",
    "\n",
    "# Data\n",
    "methods = [\n",
    "    \"mutual_5\", \"mutual_10\", \"mutual_15\", \"mutual_20\",\n",
    "    \"f_classif_5\", \"f_classif_10\", \"f_classif_15\", \"f_classif_20\",\n",
    "    \"tf_idf\", \"all_features\"\n",
    "]\n",
    "scores = [\n",
    "    0.6123, 0.6456, 0.6789, 0.6678,  # mutual\n",
    "    0.5897, 0.6234, 0.6578, 0.6782,  # f_classif\n",
    "    0.41, 0.6742  # tf_idf and all_features\n",
    "]\n",
    "\n",
    "# Assign colors for groups\n",
    "colors = [\n",
    "    \"#4c72b0\", \"#4c72b0\", \"#4c72b0\", \"#4c72b0\",  # mutual_info_classif (blue)\n",
    "    \"#55a868\", \"#55a868\", \"#55a868\", \"#55a868\",  # f_classif (green)\n",
    "    \"#c44e52\", \"#8172b2\"  # tf_idf (red), all_features (purple)\n",
    "]\n",
    "\n",
    "# Plot\n",
    "plt.figure(figsize=(10, 6))\n",
    "bars = plt.bar(methods, scores, color=colors)\n",
    "\n",
    "# Add values above bars\n",
    "for bar in bars:\n",
    "    height = bar.get_height()\n",
    "    plt.text(bar.get_x() + bar.get_width() / 2, height, f\"{height:.4f}\",\n",
    "             ha='center', va='bottom', fontsize=9)\n",
    "\n",
    "# Add labels and title\n",
    "plt.ylabel(\"Quadratic Weighted Kappa (QWK)\")\n",
    "plt.title(\"QWK Scores KNN\")\n",
    "plt.xticks(rotation=45, ha='right')\n",
    "\n",
    "# Show plot\n",
    "plt.tight_layout()\n",
    "plt.show()\n"
   ]
  },
  {
   "cell_type": "code",
   "execution_count": null,
   "metadata": {},
   "outputs": [],
   "source": []
  }
 ],
 "metadata": {
  "kernelspec": {
   "display_name": "aicomp",
   "language": "python",
   "name": "python3"
  },
  "language_info": {
   "codemirror_mode": {
    "name": "ipython",
    "version": 3
   },
   "file_extension": ".py",
   "mimetype": "text/x-python",
   "name": "python",
   "nbconvert_exporter": "python",
   "pygments_lexer": "ipython3",
   "version": "3.11.9"
  }
 },
 "nbformat": 4,
 "nbformat_minor": 2
}
